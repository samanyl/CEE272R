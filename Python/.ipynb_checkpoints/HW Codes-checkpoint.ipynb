{
 "cells": [
  {
   "cell_type": "code",
   "execution_count": 3,
   "metadata": {},
   "outputs": [],
   "source": [
    "import numpy as np\n",
    "import matplotlib.pyplot as plt\n",
    "import math\n",
    "import load_cdf as cdf\n",
    "import cmath\n",
    "import scipy.sparse\n",
    "from scipy.sparse import csr_matrix, diags, linalg"
   ]
  },
  {
   "cell_type": "code",
   "execution_count": null,
   "metadata": {},
   "outputs": [],
   "source": [
    "# `numpy.random` uses its own PRNG.\n",
    "\n",
    "r = np.round(np.random.rand(1000),1)\n",
    "plt.hist(x=r,bins=[0. , 0.1, 0.2, 0.3, 0.4, 0.5, 0.6, 0.7, 0.8, 0.9, 1. ])"
   ]
  },
  {
   "cell_type": "code",
   "execution_count": 159,
   "metadata": {},
   "outputs": [
    {
     "data": {
      "text/plain": [
       "matrix([[404.28571429],\n",
       "        [350.        ],\n",
       "        [412.85714286]])"
      ]
     },
     "execution_count": 159,
     "metadata": {},
     "output_type": "execute_result"
    }
   ],
   "source": [
    "# matrix solver\n",
    "\n",
    "A = np.matrix([[3/20,-1/10,-1/20],[1/10,-29/200,1/40],[-1/20,-1/40,3/40]])\n",
    "b = np.matrix([[5],[0],[2]])\n",
    "\n",
    "A_inv = np.linalg.inv(A)\n",
    "\n",
    "x = A_inv * b\n",
    "\n",
    "x"
   ]
  },
  {
   "cell_type": "code",
   "execution_count": null,
   "metadata": {},
   "outputs": [],
   "source": [
    "# plotter\n",
    "\n",
    "f = 60\n",
    "w = 2 * np.pi * f\n",
    "t = np.arange(0,2/f,0.0001)\n",
    "\n",
    "v = 132.7 * math.sqrt(2) * np.cos(w * t)\n",
    "i = 13.27 * math.sqrt(2) * np.cos(w * t + np.radians(-30))\n",
    "p = v * i"
   ]
  },
  {
   "cell_type": "code",
   "execution_count": null,
   "metadata": {},
   "outputs": [],
   "source": [
    "plt.plot(t,v)\n",
    "plt.xlabel(\"Time (s)\")\n",
    "plt.ylabel(\"Voltage (kV)\")\n",
    "plt.title(\"V(t)\")\n",
    "plt.show()"
   ]
  },
  {
   "cell_type": "code",
   "execution_count": null,
   "metadata": {},
   "outputs": [],
   "source": [
    "plt.plot(t,i)\n",
    "plt.xlabel(\"Time (s)\")\n",
    "plt.ylabel(\"Current (kA)\")\n",
    "plt.title(\"I(t)\")\n",
    "plt.show()"
   ]
  },
  {
   "cell_type": "code",
   "execution_count": null,
   "metadata": {},
   "outputs": [],
   "source": [
    "plt.plot(t,p)\n",
    "plt.xlabel(\"Time (s)\")\n",
    "plt.ylabel(\"Power (MW)\")\n",
    "plt.title(\"P(t)\")\n",
    "plt.show()"
   ]
  },
  {
   "cell_type": "code",
   "execution_count": 2,
   "metadata": {},
   "outputs": [],
   "source": [
    "# compute the real power at each bus and the power lost through the distribution line\n",
    "\n",
    "def ComputeTwoBusRealPower(Z, V1, theta1, V2, theta2):\n",
    "    V1 = complex(V1 * np.cos(np.radians(theta1)), V1 * np.sin(np.radians(theta1)))\n",
    "    V2 = complex(V2 * np.cos(np.radians(theta2)), V2 * np.sin(np.radians(theta2)))\n",
    "    \n",
    "    I = (V1-V2) / Z\n",
    "    \n",
    "    S1 = V1 * I.conjugate()\n",
    "    S2 = V2 * I.conjugate()\n",
    "    \n",
    "    P1 = S1.real\n",
    "    P2 = S2.real\n",
    "    PL = P1 - P2\n",
    "    \n",
    "    return [P1, P2, PL]\n",
    "\n",
    "\n",
    "# compute the reactive power at each bus and the power lost through the distribution line\n",
    "\n",
    "def ComputeTwoBusReactivePower(Z, V1, theta1, V2, theta2):\n",
    "    V1 = complex(V1 * np.cos(np.radians(theta1)), V1 * np.sin(np.radians(theta1)))\n",
    "    V2 = complex(V2 * np.cos(np.radians(theta2)), V2 * np.sin(np.radians(theta2)))\n",
    "    \n",
    "    I = (V1-V2) / Z\n",
    "    \n",
    "    S1 = V1 * I.conjugate()\n",
    "    S2 = V2 * I.conjugate()\n",
    "    \n",
    "    Q1 = S1.imag\n",
    "    Q2 = S2.imag\n",
    "    QL = Q1 - Q2\n",
    "    \n",
    "    return [Q1, Q2, QL]"
   ]
  },
  {
   "cell_type": "code",
   "execution_count": null,
   "metadata": {},
   "outputs": [],
   "source": [
    "# using prior function to solve for real power\n",
    "\n",
    "Z = complex(3,7)\n",
    "V1 = 120\n",
    "V2 = 100\n",
    "theta1 = np.arange(-30,30,1)\n",
    "theta2 = 0\n",
    "\n",
    "p1,p2,p3 = [],[],[]\n",
    "\n",
    "for x in theta1:\n",
    "    P = ComputeTwoBusRealPower(Z, V1, x, V2, theta2)\n",
    "    p1.append(P[0])\n",
    "    p2.append(P[1])\n",
    "    p3.append(P[2])\n",
    "    \n",
    "plt.plot(theta1, p1, theta1, p2,theta1, p3)\n",
    "plt.ylabel(\"Power (W)\")\n",
    "plt.xlabel(\"Phase Angle of Voltage Source #1 (radians)\")\n",
    "plt.title(\"Real Power in a Two-Bus System\")\n",
    "plt.legend([\"Bus 1\", \"Bus 2\", \"Consumed\"])\n",
    "plt.show"
   ]
  },
  {
   "cell_type": "code",
   "execution_count": null,
   "metadata": {},
   "outputs": [],
   "source": [
    "# using prior function to solve for reactive power\n",
    "\n",
    "Z = complex(3,7)\n",
    "V1 = np.arange(50,150,1)\n",
    "V2 = 100\n",
    "theta1 = -5\n",
    "theta2 = 0\n",
    "\n",
    "q1,q2,q3 = [],[],[]\n",
    "\n",
    "for x in V1:\n",
    "    Q = ComputeTwoBusReactivePower(Z, x, theta1, V2, theta2)\n",
    "    q1.append(Q[0])\n",
    "    q2.append(Q[1])\n",
    "    q3.append(Q[2])\n",
    "    \n",
    "plt.plot(V1,q1,V1,q2,V1,q3)\n",
    "plt.ylabel(\"Reactive Power (VAR)\")\n",
    "plt.xlabel(\"Voltage of Voltage Source #1 (V)\")\n",
    "plt.title(\"Reactive Power in a Two-Bus System\")\n",
    "plt.legend([\"Bus 1\", \"Bus 2\", \"Consumed\"])\n",
    "plt.show"
   ]
  },
  {
   "cell_type": "code",
   "execution_count": 5,
   "metadata": {},
   "outputs": [],
   "source": [
    "# converts complex number from cartesian form to polar form with angle in degrees\n",
    "\n",
    "def cartToPol(z):\n",
    "    p = z.real\n",
    "    q = z.imag\n",
    "    theta = np.degrees(np.arctan(q/p))\n",
    "    mag = np.sqrt(p**2 + q**2)\n",
    "    \n",
    "    return mag,theta\n",
    "\n",
    "\n",
    "# converts complex number from polar form with angle in degrees to cartesian form\n",
    "\n",
    "def polToCart(mag,theta):\n",
    "    p = mag * np.cos(np.radians(theta))\n",
    "    q = mag * np.sin(np.radians(theta))\n",
    "    return complex(p,q)\n",
    "\n",
    "\n",
    "# converts voltage or current phasor into its waveform\n",
    "\n",
    "def phasor2waveform(f,phasor,T):\n",
    "    w = 2 * np.pi * f\n",
    "    PeakValue = cartToPol(phasor)[0] * math.sqrt(2)\n",
    "    theta = cartToPol(phasor)[1]\n",
    "        \n",
    "    ans = input(\"Do you want a graph? [y/n]  \")\n",
    "    \n",
    "    if ans == \"y\" :\n",
    "        t = np.arange(0,T/f,0.0001)\n",
    "        y = PeakValue * np.cos(w * t + np.radians(theta))\n",
    "        plt.plot(t, y)\n",
    "        plt.ylabel(\"Voltage (V) or Current (A)\")\n",
    "        plt.xlabel(\"Time\")\n",
    "        plt.title(\"V(t) or I(t)\")\n",
    "        plt.show()\n",
    "    \n",
    "    return w, theta, PeakValue"
   ]
  },
  {
   "cell_type": "code",
   "execution_count": null,
   "metadata": {},
   "outputs": [],
   "source": [
    "ans = [cartToPol(complex(1,3)),cartToPol(complex(5,-0.5)),cartToPol(complex(10,-1)),polToCart(5,90),polToCart(3.4,-28),\n",
    "       polToCart(-3,110)]\n",
    "ans"
   ]
  },
  {
   "cell_type": "code",
   "execution_count": null,
   "metadata": {},
   "outputs": [],
   "source": [
    "ans1 = phasor2waveform(10,complex(3,5),0)\n",
    "ans1"
   ]
  },
  {
   "cell_type": "code",
   "execution_count": null,
   "metadata": {},
   "outputs": [],
   "source": [
    "ans2 = phasor2waveform(60,complex(0.4,-0.1),5)\n",
    "ans2"
   ]
  },
  {
   "cell_type": "code",
   "execution_count": null,
   "metadata": {},
   "outputs": [],
   "source": [
    "# transformer relative transmission line loss calculations\n",
    "\n",
    "a1 = np.arange(0.1,10,0.1)\n",
    "a2 = 1/a1\n",
    "\n",
    "V0 = polToCart(4,10)\n",
    "Sb = 8\n",
    "Vb = 4\n",
    "Vb1 = Vb + (0 * a1)\n",
    "Vb2 = a1 * Vb1\n",
    "Vb3 = a2 * Vb2\n",
    "\n",
    "Zb1 = Vb1**2 / Sb\n",
    "Zb2 = Vb2**2 / Sb\n",
    "Zb3 = Vb3**2 / Sb\n",
    "\n",
    "Z2 = Zb2 / complex(1,4)\n",
    "ZL = Zb3 / complex(4,2)\n",
    "\n",
    "I = (polToCart(Vb / cartToPol(V0)[0],cartToPol(V0)[1])) / (Z2 + ZL)\n",
    "V2 = Z2 * I\n",
    "VL = ZL * I\n",
    "S2 = V2 * I.conjugate()\n",
    "SL = VL * I.conjugate()\n",
    "\n",
    "S_rel = S2.real/SL.real\n",
    "\n",
    "plt.plot(a1,S_rel)\n",
    "plt.ylabel(\"Relative Transmission Line Loss\")\n",
    "plt.xlabel(\"Turns Ratio of First Transformer\")\n",
    "plt.title(\"Relating Transmission Line Loss to the Turns Ratio\")\n",
    "plt.show()\n"
   ]
  },
  {
   "cell_type": "code",
   "execution_count": 10,
   "metadata": {},
   "outputs": [
    {
     "data": {
      "text/plain": [
       "matrix([[2.34575664+3.08112569j],\n",
       "        [1.36094889+2.90747751j],\n",
       "        [1.44469573+2.16363718j],\n",
       "        [3.00731272+9.35461041j]])"
      ]
     },
     "execution_count": 10,
     "metadata": {},
     "output_type": "execute_result"
    }
   ],
   "source": [
    "# Ybus Solver\n",
    "\n",
    "Ybus = np.matrix([[1,-1,0,0],\n",
    "                  [-1,complex(2.083333,-1),complex(-1/3,1),-1/4],\n",
    "                  [0,complex(-1/3,1),complex(1/3,-1/4),complex(0,-1/4)],\n",
    "                  [0,-1/4,complex(0,-1/4),complex(1/4,-0.0833333)]])\n",
    "I = np.matrix([\n",
    "    [polToCart(1,10)],\n",
    "    [0],\n",
    "    [0],\n",
    "    [polToCart(2,30)]])\n",
    "\n",
    "Ybus_inv = np.linalg.inv(Ybus)\n",
    "\n",
    "V = Ybus_inv * I\n",
    "\n",
    "V"
   ]
  },
  {
   "cell_type": "code",
   "execution_count": 20,
   "metadata": {},
   "outputs": [],
   "source": [
    "# assumes that p and B both contain the slack bus placeholder\n",
    "\n",
    "def pf_dc(B,p,slack):\n",
    "    n = B.shape[0]\n",
    "    M = csr_matrix((n,n))\n",
    "    \n",
    "    for i in range(0,B.shape[0]):\n",
    "        for j in range(0,B.shape[1]):\n",
    "            if i == j :\n",
    "                total = 0\n",
    "                for k in range(0,B.shape[1]):\n",
    "                    total = total + B[(i,k)]\n",
    "                M[(i,j)] = total\n",
    "            else:                    \n",
    "                M[(i,j)] = -B[(i,j)]\n",
    "\n",
    "    M = M.toarray()\n",
    "    \n",
    "    M_slack = np.delete(np.delete(M,slack,0),slack,1)\n",
    "    p = np.delete(p,slack,0)        \n",
    "    \n",
    "    M_inv = np.linalg.inv(M_slack)\n",
    "    theta = np.insert(M_inv.dot(p),slack,0)\n",
    "    \n",
    "    return theta"
   ]
  },
  {
   "cell_type": "code",
   "execution_count": 21,
   "metadata": {},
   "outputs": [
    {
     "name": "stdout",
     "output_type": "stream",
     "text": [
      "[-3.65164058e+00  1.83000000e-01 -9.42000000e-01 -4.78000000e-01\n",
      " -7.60000000e-02 -1.12000000e-01  1.38777878e-17  1.72037470e-17\n",
      " -2.95000000e-01 -9.00000000e-02 -3.50000000e-02 -6.10000000e-02\n",
      " -1.35000000e-01 -1.49000000e-01]\n",
      "[ 0.00000000e+00  0.00000000e+00  2.55867052e-01  8.62122086e-02\n",
      " -5.55398289e-02 -5.99011450e-02 -1.37314848e-02 -3.03044003e-18\n",
      "  2.48650406e-02  1.36885425e-02  2.07174392e-02 -1.17846470e-02\n",
      "  3.60333948e-02  4.64528773e-02  5.94625377e-02]\n"
     ]
    },
    {
     "name": "stderr",
     "output_type": "stream",
     "text": [
      "C:\\Users\\liusa\\Anaconda3\\lib\\site-packages\\scipy\\sparse\\_index.py:84: SparseEfficiencyWarning: Changing the sparsity structure of a csr_matrix is expensive. lil_matrix is more efficient.\n",
      "  self._set_intXint(row, col, x.flat[0])\n"
     ]
    }
   ],
   "source": [
    "# Assume the S and V values corresponding to what type of bus it is are known\n",
    "# S and V are the per unit bus complex powers and voltages\n",
    "# Ybus is the per unit bus admittance matrix\n",
    "# pv is generation bus, P and V are known\n",
    "# pq is a load bus, P and Q are known\n",
    "# slack is a slack bus, V and theta are known\n",
    "\n",
    "[Ybus,S,V,slack,pv,pq,mva] = cdf.load_cdf('ieee14cdf.txt')\n",
    "\n",
    "# for n in pq:\n",
    "#     S[n] = np.sqrt(n.imag**2 + n.real**2)\n",
    "\n",
    "B = Ybus.imag\n",
    "p = S.real\n",
    "\n",
    "theta = pf_dc(B,p,slack)\n",
    "\n",
    "print(theta)"
   ]
  },
  {
   "cell_type": "code",
   "execution_count": 22,
   "metadata": {},
   "outputs": [
    {
     "name": "stdout",
     "output_type": "stream",
     "text": [
      "[-3.87061605 -8.          4.7       ]\n",
      "[ 0.          0.         -0.09892381  0.16838095]\n"
     ]
    }
   ],
   "source": [
    "y12 = np.reciprocal(complex(0.0017,0.024))\n",
    "y13 = np.reciprocal(complex(0.0016,0.021))\n",
    "y23 = np.reciprocal(complex(0.0010,0.021))\n",
    "\n",
    "Ybus = csr_matrix([[y12+y13,-y12,-y13],\n",
    "                   [-y12,y12+y23,-y23],\n",
    "                   [-y13,-y23,y13+y23]])\n",
    "\n",
    "B = Ybus.imag\n",
    "p = [0,-8,4.7]\n",
    "slack = 0\n",
    "\n",
    "theta = pf_dc(B,p,slack)\n",
    "\n",
    "print(theta)"
   ]
  },
  {
   "cell_type": "code",
   "execution_count": 219,
   "metadata": {},
   "outputs": [
    {
     "name": "stdout",
     "output_type": "stream",
     "text": [
      "[1 2 5 7]\n",
      "[ 3  4  6  8  9 10 11 12 13]\n"
     ]
    }
   ],
   "source": [
    "print(pv)\n",
    "print(pq)"
   ]
  },
  {
   "cell_type": "code",
   "execution_count": 220,
   "metadata": {},
   "outputs": [
    {
     "name": "stdout",
     "output_type": "stream",
     "text": [
      "[ 2.324-0.169j  0.183+0.297j -0.942+0.044j -0.478+0.039j -0.076-0.016j\n",
      " -0.112+0.047j  0.   +0.j     0.   +0.174j -0.295-0.166j -0.09 -0.058j\n",
      " -0.035-0.018j -0.061-0.016j -0.135-0.058j -0.149-0.05j ]\n"
     ]
    }
   ],
   "source": [
    "print(S)"
   ]
  },
  {
   "cell_type": "code",
   "execution_count": 19,
   "metadata": {},
   "outputs": [
    {
     "data": {
      "text/plain": [
       "(5.869621723700752-94.85552720502034j)"
      ]
     },
     "execution_count": 19,
     "metadata": {},
     "output_type": "execute_result"
    }
   ],
   "source": [
    "y13+y23"
   ]
  },
  {
   "cell_type": "code",
   "execution_count": 11,
   "metadata": {},
   "outputs": [
    {
     "data": {
      "text/plain": [
       "3.979601142751518"
      ]
     },
     "execution_count": 11,
     "metadata": {},
     "output_type": "execute_result"
    }
   ],
   "source": [
    "np.sum(theta)"
   ]
  },
  {
   "cell_type": "code",
   "execution_count": null,
   "metadata": {},
   "outputs": [],
   "source": []
  }
 ],
 "metadata": {
  "kernelspec": {
   "display_name": "Python 3",
   "language": "python",
   "name": "python3"
  },
  "language_info": {
   "codemirror_mode": {
    "name": "ipython",
    "version": 3
   },
   "file_extension": ".py",
   "mimetype": "text/x-python",
   "name": "python",
   "nbconvert_exporter": "python",
   "pygments_lexer": "ipython3",
   "version": "3.7.1"
  }
 },
 "nbformat": 4,
 "nbformat_minor": 2
}
