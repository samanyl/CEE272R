{
 "cells": [
  {
   "cell_type": "code",
   "execution_count": 2,
   "metadata": {},
   "outputs": [],
   "source": [
    "import numpy as np\n",
    "import matplotlib.pyplot as plt\n",
    "import math\n",
    "import load_cdf as cdf\n",
    "import cmath\n",
    "import scipy.sparse\n",
    "from scipy.sparse import csr_matrix, diags, linalg\n",
    "from sympy.solvers import solve\n",
    "from sympy import Symbol\n",
    "import cvxpy as cvx"
   ]
  },
  {
   "cell_type": "code",
   "execution_count": null,
   "metadata": {},
   "outputs": [],
   "source": [
    "# `numpy.random` uses its own PRNG.\n",
    "\n",
    "r = np.round(np.random.rand(1000),1)\n",
    "plt.hist(x=r,bins=[0. , 0.1, 0.2, 0.3, 0.4, 0.5, 0.6, 0.7, 0.8, 0.9, 1. ])"
   ]
  },
  {
   "cell_type": "code",
   "execution_count": null,
   "metadata": {},
   "outputs": [],
   "source": [
    "# matrix solver\n",
    "\n",
    "A = np.matrix([[3/20,-1/10,-1/20],[1/10,-29/200,1/40],[-1/20,-1/40,3/40]])\n",
    "b = np.matrix([[5],[0],[2]])\n",
    "\n",
    "A_inv = np.linalg.inv(A)\n",
    "\n",
    "x = A_inv * b\n",
    "\n",
    "x"
   ]
  },
  {
   "cell_type": "code",
   "execution_count": null,
   "metadata": {},
   "outputs": [],
   "source": [
    "# plotter\n",
    "\n",
    "f = 60\n",
    "w = 2 * np.pi * f\n",
    "t = np.arange(0,2/f,0.0001)\n",
    "\n",
    "v = 132.7 * math.sqrt(2) * np.cos(w * t)\n",
    "i = 13.27 * math.sqrt(2) * np.cos(w * t + np.radians(-30))\n",
    "p = v * i"
   ]
  },
  {
   "cell_type": "code",
   "execution_count": null,
   "metadata": {},
   "outputs": [],
   "source": [
    "plt.plot(t,v)\n",
    "plt.xlabel(\"Time (s)\")\n",
    "plt.ylabel(\"Voltage (kV)\")\n",
    "plt.title(\"V(t)\")\n",
    "plt.show()"
   ]
  },
  {
   "cell_type": "code",
   "execution_count": null,
   "metadata": {},
   "outputs": [],
   "source": [
    "plt.plot(t,i)\n",
    "plt.xlabel(\"Time (s)\")\n",
    "plt.ylabel(\"Current (kA)\")\n",
    "plt.title(\"I(t)\")\n",
    "plt.show()"
   ]
  },
  {
   "cell_type": "code",
   "execution_count": null,
   "metadata": {},
   "outputs": [],
   "source": [
    "plt.plot(t,p)\n",
    "plt.xlabel(\"Time (s)\")\n",
    "plt.ylabel(\"Power (MW)\")\n",
    "plt.title(\"P(t)\")\n",
    "plt.show()"
   ]
  },
  {
   "cell_type": "code",
   "execution_count": null,
   "metadata": {},
   "outputs": [],
   "source": [
    "# compute the real power at each bus and the power lost through the distribution line\n",
    "\n",
    "def ComputeTwoBusRealPower(Z, V1, theta1, V2, theta2):\n",
    "    V1 = complex(V1 * np.cos(np.radians(theta1)), V1 * np.sin(np.radians(theta1)))\n",
    "    V2 = complex(V2 * np.cos(np.radians(theta2)), V2 * np.sin(np.radians(theta2)))\n",
    "    \n",
    "    I = (V1-V2) / Z\n",
    "    \n",
    "    S1 = V1 * I.conjugate()\n",
    "    S2 = V2 * I.conjugate()\n",
    "    \n",
    "    P1 = S1.real\n",
    "    P2 = S2.real\n",
    "    PL = P1 - P2\n",
    "    \n",
    "    return [P1, P2, PL]\n",
    "\n",
    "\n",
    "# compute the reactive power at each bus and the power lost through the distribution line\n",
    "\n",
    "def ComputeTwoBusReactivePower(Z, V1, theta1, V2, theta2):\n",
    "    V1 = complex(V1 * np.cos(np.radians(theta1)), V1 * np.sin(np.radians(theta1)))\n",
    "    V2 = complex(V2 * np.cos(np.radians(theta2)), V2 * np.sin(np.radians(theta2)))\n",
    "    \n",
    "    I = (V1-V2) / Z\n",
    "    \n",
    "    S1 = V1 * I.conjugate()\n",
    "    S2 = V2 * I.conjugate()\n",
    "    \n",
    "    Q1 = S1.imag\n",
    "    Q2 = S2.imag\n",
    "    QL = Q1 - Q2\n",
    "    \n",
    "    return [Q1, Q2, QL]"
   ]
  },
  {
   "cell_type": "code",
   "execution_count": null,
   "metadata": {},
   "outputs": [],
   "source": [
    "# using prior function to solve for real power\n",
    "\n",
    "Z = complex(3,7)\n",
    "V1 = 120\n",
    "V2 = 100\n",
    "theta1 = np.arange(-30,30,1)\n",
    "theta2 = 0\n",
    "\n",
    "p1,p2,p3 = [],[],[]\n",
    "\n",
    "for x in theta1:\n",
    "    P = ComputeTwoBusRealPower(Z, V1, x, V2, theta2)\n",
    "    p1.append(P[0])\n",
    "    p2.append(P[1])\n",
    "    p3.append(P[2])\n",
    "    \n",
    "plt.plot(theta1, p1, theta1, p2,theta1, p3)\n",
    "plt.ylabel(\"Power (W)\")\n",
    "plt.xlabel(\"Phase Angle of Voltage Source #1 (radians)\")\n",
    "plt.title(\"Real Power in a Two-Bus System\")\n",
    "plt.legend([\"Bus 1\", \"Bus 2\", \"Consumed\"])\n",
    "plt.show"
   ]
  },
  {
   "cell_type": "code",
   "execution_count": null,
   "metadata": {},
   "outputs": [],
   "source": [
    "# using prior function to solve for reactive power\n",
    "\n",
    "Z = complex(3,7)\n",
    "V1 = np.arange(50,150,1)\n",
    "V2 = 100\n",
    "theta1 = -5\n",
    "theta2 = 0\n",
    "\n",
    "q1,q2,q3 = [],[],[]\n",
    "\n",
    "for x in V1:\n",
    "    Q = ComputeTwoBusReactivePower(Z, x, theta1, V2, theta2)\n",
    "    q1.append(Q[0])\n",
    "    q2.append(Q[1])\n",
    "    q3.append(Q[2])\n",
    "    \n",
    "plt.plot(V1,q1,V1,q2,V1,q3)\n",
    "plt.ylabel(\"Reactive Power (VAR)\")\n",
    "plt.xlabel(\"Voltage of Voltage Source #1 (V)\")\n",
    "plt.title(\"Reactive Power in a Two-Bus System\")\n",
    "plt.legend([\"Bus 1\", \"Bus 2\", \"Consumed\"])\n",
    "plt.show"
   ]
  },
  {
   "cell_type": "code",
   "execution_count": 2,
   "metadata": {},
   "outputs": [],
   "source": [
    "# converts complex number from cartesian form to polar form with angle in degrees\n",
    "\n",
    "def cartToPol(z):\n",
    "    p = z.real\n",
    "    q = z.imag\n",
    "    theta = np.degrees(np.arctan(q/p))\n",
    "    mag = np.sqrt(p**2 + q**2)\n",
    "    \n",
    "    return mag,theta\n",
    "\n",
    "\n",
    "# converts complex number from polar form with angle in degrees to cartesian form\n",
    "\n",
    "def polToCart(mag,theta):\n",
    "    p = mag * np.cos(np.radians(theta))\n",
    "    q = mag * np.sin(np.radians(theta))\n",
    "    return complex(p,q)\n",
    "\n",
    "\n",
    "# converts voltage or current phasor into its waveform\n",
    "\n",
    "def phasor2waveform(f,phasor,T):\n",
    "    w = 2 * np.pi * f\n",
    "    PeakValue = cartToPol(phasor)[0] * math.sqrt(2)\n",
    "    theta = cartToPol(phasor)[1]\n",
    "        \n",
    "    ans = input(\"Do you want a graph? [y/n]  \")\n",
    "    \n",
    "    if ans == \"y\" :\n",
    "        t = np.arange(0,T/f,0.0001)\n",
    "        y = PeakValue * np.cos(w * t + np.radians(theta))\n",
    "        plt.plot(t, y)\n",
    "        plt.ylabel(\"Voltage (V) or Current (A)\")\n",
    "        plt.xlabel(\"Time\")\n",
    "        plt.title(\"V(t) or I(t)\")\n",
    "        plt.show()\n",
    "    \n",
    "    return w, theta, PeakValue"
   ]
  },
  {
   "cell_type": "code",
   "execution_count": null,
   "metadata": {},
   "outputs": [],
   "source": [
    "ans = [cartToPol(complex(1,3)),cartToPol(complex(5,-0.5)),cartToPol(complex(10,-1)),polToCart(5,90),polToCart(3.4,-28),\n",
    "       polToCart(-3,110)]\n",
    "ans"
   ]
  },
  {
   "cell_type": "code",
   "execution_count": null,
   "metadata": {},
   "outputs": [],
   "source": [
    "ans1 = phasor2waveform(10,complex(3,5),0)\n",
    "ans1"
   ]
  },
  {
   "cell_type": "code",
   "execution_count": null,
   "metadata": {},
   "outputs": [],
   "source": [
    "ans2 = phasor2waveform(60,complex(0.4,-0.1),5)\n",
    "ans2"
   ]
  },
  {
   "cell_type": "code",
   "execution_count": null,
   "metadata": {},
   "outputs": [],
   "source": [
    "# transformer relative transmission line loss calculations\n",
    "\n",
    "a1 = np.arange(0.1,10,0.1)\n",
    "a2 = 1/a1\n",
    "\n",
    "V0 = polToCart(4,10)\n",
    "Sb = 8\n",
    "Vb = 4\n",
    "Vb1 = Vb + (0 * a1)\n",
    "Vb2 = a1 * Vb1\n",
    "Vb3 = a2 * Vb2\n",
    "\n",
    "Zb1 = Vb1**2 / Sb\n",
    "Zb2 = Vb2**2 / Sb\n",
    "Zb3 = Vb3**2 / Sb\n",
    "\n",
    "Z2 = Zb2 / complex(1,4)\n",
    "ZL = Zb3 / complex(4,2)\n",
    "\n",
    "I = (polToCart(Vb / cartToPol(V0)[0],cartToPol(V0)[1])) / (Z2 + ZL)\n",
    "V2 = Z2 * I\n",
    "VL = ZL * I\n",
    "S2 = V2 * I.conjugate()\n",
    "SL = VL * I.conjugate()\n",
    "\n",
    "S_rel = S2.real/SL.real\n",
    "\n",
    "plt.plot(a1,S_rel)\n",
    "plt.ylabel(\"Relative Transmission Line Loss\")\n",
    "plt.xlabel(\"Turns Ratio of First Transformer\")\n",
    "plt.title(\"Relating Transmission Line Loss to the Turns Ratio\")\n",
    "plt.show()\n"
   ]
  },
  {
   "cell_type": "code",
   "execution_count": null,
   "metadata": {},
   "outputs": [],
   "source": [
    "# Ybus Solver\n",
    "\n",
    "Ybus = np.matrix([[1,-1,0,0],\n",
    "                  [-1,complex(2.083333,-1),complex(-1/3,1),-1/4],\n",
    "                  [0,complex(-1/3,1),complex(1/3,-1/4),complex(0,-1/4)],\n",
    "                  [0,-1/4,complex(0,-1/4),complex(1/4,-0.0833333)]])\n",
    "I = np.matrix([\n",
    "    [polToCart(1,10)],\n",
    "    [0],\n",
    "    [0],\n",
    "    [polToCart(2,30)]])\n",
    "\n",
    "Ybus_inv = np.linalg.inv(Ybus)\n",
    "\n",
    "V = Ybus_inv * I\n",
    "\n",
    "V"
   ]
  },
  {
   "cell_type": "code",
   "execution_count": null,
   "metadata": {},
   "outputs": [],
   "source": [
    "# assumes that p and B both contain the slack bus placeholder\n",
    "\n",
    "def pf_dc(B,p,slack):\n",
    "    M = B\n",
    "    M = M.toarray()\n",
    "    \n",
    "    M_slack = np.delete(np.delete(M,slack,0),slack,1)\n",
    "\n",
    "    p = np.delete(p,slack,0)        \n",
    "    \n",
    "    M_inv = np.linalg.inv(M_slack)\n",
    "    theta = np.insert(M_inv.dot(p),slack,0)\n",
    "    \n",
    "    return theta"
   ]
  },
  {
   "cell_type": "code",
   "execution_count": null,
   "metadata": {},
   "outputs": [],
   "source": [
    "# Assume the S and V values corresponding to what type of bus it is are known\n",
    "# S and V are the per unit bus complex powers and voltages\n",
    "# Ybus is the per unit bus admittance matrix\n",
    "# pv is generation bus, P and V are known\n",
    "# pq is a load bus, P and Q are known\n",
    "# slack is a slack bus, V and theta are known\n",
    "\n",
    "[Ybus,S,V,slack,pv,pq,mva] = cdf.load_cdf('ieee14cdf.txt')\n",
    "\n",
    "# for n in pq:\n",
    "#     S[n] = np.sqrt(n.imag**2 + n.real**2)\n",
    "\n",
    "B = Ybus.imag\n",
    "p = S.real\n",
    "\n",
    "theta = pf_dc(B,p,slack)\n",
    "\n",
    "print(theta)"
   ]
  },
  {
   "cell_type": "code",
   "execution_count": null,
   "metadata": {},
   "outputs": [],
   "source": [
    "y12 = np.reciprocal(complex(0.0017,0.024))\n",
    "y13 = np.reciprocal(complex(0.0016,0.021))\n",
    "y23 = np.reciprocal(complex(0.0010,0.021))\n",
    "\n",
    "Ybus = csr_matrix([[y12+y13,-y12,-y13],\n",
    "                   [-y12,y12+y23,-y23],\n",
    "                   [-y13,-y23,y13+y23]])\n",
    "\n",
    "B = Ybus.imag\n",
    "p = [0,-8,4.7]\n",
    "slack = 0\n",
    "\n",
    "theta = pf_dc(B,p,slack)\n",
    "\n",
    "print(theta)"
   ]
  },
  {
   "cell_type": "code",
   "execution_count": null,
   "metadata": {},
   "outputs": [],
   "source": [
    "eng = matlab.engine.start_matlab()\n",
    "eng.YBus(nargout=0)\n",
    "eng.quit()"
   ]
  },
  {
   "cell_type": "code",
   "execution_count": null,
   "metadata": {},
   "outputs": [],
   "source": [
    "Ybus = csr_matrix([[complex(0,-20),complex(0,10),complex(0,10)],\n",
    "                   [complex(0,10),complex(0,-20),complex(0,10)],\n",
    "                   [complex(0,10),complex(0,10),complex(0,-20)]])\n",
    "\n",
    "V = [complex(1,0),complex(0.998190,-0.060084),complex(0.992784,-0.119963)]\n",
    "\n",
    "p = [0,0,-1.8]\n",
    "B = Ybus.imag\n",
    "slack = 0\n",
    "\n",
    "theta = pf_dc(B,p,slack)\n",
    "\n",
    "print(np.degrees(theta))"
   ]
  },
  {
   "cell_type": "code",
   "execution_count": 33,
   "metadata": {},
   "outputs": [
    {
     "data": {
      "text/plain": [
       "[7539.822368615503,\n",
       " 158.3362697409256,\n",
       " 90.47786842338604,\n",
       " (50+158.3362697409256j),\n",
       " (80+90.47786842338604j),\n",
       " (0.007298160212150185-0.011945944221513025j),\n",
       " (0.007298160212150185-0.011945944221513025j),\n",
       " (0.007298160212150185+0.011945944221513025j),\n",
       " 0.5213387526266895,\n",
       " 0.003534660315392444,\n",
       " -0.00841128390612058,\n",
       " 1.1155811761736634e-06,\n",
       " 0.017368098948520323j,\n",
       " (0.0325+0j),\n",
       " -0.00841128390612058j,\n",
       " (0.007219711884889813+0.013509862936318033j),\n",
       " (0.007219711884889813+0.005098579030197453j),\n",
       " (0.007219711884889813+0.005098579030197453j),\n",
       " (0.008838537652122573, -35.229836330695484),\n",
       " 0.8168446149183967]"
      ]
     },
     "execution_count": 33,
     "metadata": {},
     "output_type": "execute_result"
    }
   ],
   "source": [
    "w = 2400 * np.pi\n",
    "x_L1 = w * 21 / 1000\n",
    "x_L2 = w * 12/1000\n",
    "z1 = complex(50,x_L1)\n",
    "z2 = complex(80,x_L2)\n",
    "Y = 1/z1 + 1/z2\n",
    "I = Y * 1\n",
    "S = 1 * np.conj(I)\n",
    "# S = cartToPol(S)\n",
    "# pf_a = np.cos(np.radians(S[1]))\n",
    "\n",
    "Q_new = np.sqrt((S.real/0.9)**2 - S.real **2)\n",
    "Q_c = Q_new - S.imag\n",
    "c = -Q_c / w\n",
    "\n",
    "y_L = complex(0,1 / x_L1 + 1 / x_L2)\n",
    "y_R = complex(1 / 50 + 1 / 80,0)\n",
    "y_C = 1 / complex(0,1/(w * c))\n",
    "y_LR = 1/ (1/ y_L + 1 / y_R)\n",
    "y = y_C + y_LR\n",
    "i = y * 1\n",
    "s = 1 * np.conj(i)\n",
    "s = cartToPol(s)\n",
    "pf_c = np.cos(np.radians(s[1]))\n",
    "[w,x_L1,x_L2,z1,z2,Y,I,S,pf_a,Q_new,Q_c,c,y_L,y_R,y_C,y_LR,y,i,s,pf_c]"
   ]
  },
  {
   "cell_type": "code",
   "execution_count": 2,
   "metadata": {},
   "outputs": [
    {
     "name": "stdout",
     "output_type": "stream",
     "text": [
      "646.0\n",
      "[ 6. 14.]\n",
      "[6.]\n",
      "[37.]\n",
      "[66.]\n"
     ]
    }
   ],
   "source": [
    "# DC OPF Solver w/ Line Constraints\n",
    "\n",
    "PL = 20 # load\n",
    "CQ = np.array([3, 2]) # cost; coefficients of quadratic terms\n",
    "CL = np.array([1, 10]) # cost; coefficients of linear terms\n",
    "F = 6 # line capacity\n",
    "\n",
    "# define the optimization problem\n",
    "PG = cvx.Variable(2) # optimization variables: PG1 and PG2\n",
    "P12 = cvx.Variable(1) # optimization variables: P12\n",
    "\n",
    "objective = cvx.quad_form(PG, np.diag(CQ)) + PG * CL # objective function. compact form of \n",
    "                                                     # CQ(1)*PG(1)^2+CL(1)*PG(1) +CQ(2)*PG(2)^2+CL(2)*PG(2)\n",
    "\n",
    "constraints = [PG[0] == P12, PG[1] + P12 == PL, -F <= P12, P12 <= F]\n",
    "prob = cvx.Problem(cvx.Minimize(objective), constraints)\n",
    "result = prob.solve()\n",
    "\n",
    "print(objective.value)  # optimal value of objective\n",
    "print(PG.value)\n",
    "print(P12.value)\n",
    "\n",
    "# Note: depending on how to express the equality constraints, \n",
    "# the returned dual variables (LMPs) could be negative.\n",
    "print(-constraints[0].dual_value)  # LMP1\n",
    "print(-constraints[1].dual_value)  # LMP2"
   ]
  },
  {
   "cell_type": "code",
   "execution_count": 7,
   "metadata": {},
   "outputs": [
    {
     "name": "stdout",
     "output_type": "stream",
     "text": [
      "603.9499999999997\n",
      "[ 8.9 11.1]\n",
      "54.399999999999984\n"
     ]
    }
   ],
   "source": [
    "# DC OPF Solver w/o Line Constraints\n",
    "\n",
    "PL = 20 # load\n",
    "CQ = np.array([3, 2]) # cost; coefficients of quadratic terms\n",
    "CL = np.array([1, 10]) # cost; coefficients of linear terms\n",
    "F = 6 # line capacity\n",
    "\n",
    "# define the optimization problem\n",
    "PG = cvx.Variable(2) # optimization variables: PG1 and PG2\n",
    "P12 = cvx.Variable(1) # optimization variables: P12\n",
    "\n",
    "objective = cvx.quad_form(PG, np.diag(CQ)) + PG * CL # objective function. compact form of \n",
    "                                                     # CQ(1)*PG(1)^2+CL(1)*PG(1) +CQ(2)*PG(2)^2+CL(2)*PG(2)\n",
    "\n",
    "constraints = [PG[1] + PG[0] == PL]\n",
    "prob = cvx.Problem(cvx.Minimize(objective), constraints)\n",
    "result = prob.solve()\n",
    "\n",
    "print(objective.value)  # optimal value of objective\n",
    "print(PG.value)\n",
    "\n",
    "# Note: depending on how to express the equality constraints, \n",
    "# the returned dual variables (LMPs) could be negative.\n",
    "print(-constraints[0].dual_value)  # LMP1"
   ]
  },
  {
   "cell_type": "code",
   "execution_count": 9,
   "metadata": {},
   "outputs": [
    {
     "data": {
      "text/plain": [
       "Text(0.5, 0, 'P12_')"
      ]
     },
     "execution_count": 9,
     "metadata": {},
     "output_type": "execute_result"
    },
    {
     "data": {
      "image/png": "[encoded data removed]",
      "text/plain": [
       "<Figure size 432x288 with 1 Axes>"
      ]
     },
     "metadata": {
      "needs_background": "light"
     },
     "output_type": "display_data"
    }
   ],
   "source": [
    "# DC OPF Solver w/ Line Constraints\n",
    "\n",
    "PL = 20 # load\n",
    "CQ = np.array([3, 2]) # cost; coefficients of quadratic terms\n",
    "CL = np.array([1, 10]) # cost; coefficients of linear terms\n",
    "F = np.arange(1,16) # line capacity\n",
    "\n",
    "graph1 = []\n",
    "graph2a = []\n",
    "graph2b = []\n",
    "\n",
    "# define the optimization problem\n",
    "PG = cvx.Variable(2) # optimization variables: PG1 and PG2\n",
    "P12 = cvx.Variable(1) # optimization variables: P12\n",
    "\n",
    "objective = cvx.quad_form(PG, np.diag(CQ)) + PG * CL # objective function. compact form of \n",
    "                                                     # CQ(1)*PG(1)^2+CL(1)*PG(1) +CQ(2)*PG(2)^2+CL(2)*PG(2)\n",
    "\n",
    "for f in F:\n",
    "    constraints = [PG[0] == P12, PG[1] + P12 == PL, -f <= P12, P12 <= f]\n",
    "    prob = cvx.Problem(cvx.Minimize(objective), constraints)\n",
    "    result = prob.solve()\n",
    "\n",
    "    graph1.append(f-P12.value)\n",
    "    graph2a.append(constraints[0].dual_value)\n",
    "    graph2b.append(constraints[1].dual_value)\n",
    "    \n",
    "plt.plot(F,graph1)\n",
    "plt.ylabel(\"P12_ - P12*\")\n",
    "plt.xlabel(\"P12_\")"
   ]
  },
  {
   "cell_type": "code",
   "execution_count": 11,
   "metadata": {},
   "outputs": [
    {
     "data": {
      "text/plain": [
       "<matplotlib.legend.Legend at 0x1f2ec002988>"
      ]
     },
     "execution_count": 11,
     "metadata": {},
     "output_type": "execute_result"
    },
    {
     "data": {
      "image/png": "[encoded data removed]",
      "text/plain": [
       "<Figure size 432x288 with 1 Axes>"
      ]
     },
     "metadata": {
      "needs_background": "light"
     },
     "output_type": "display_data"
    }
   ],
   "source": [
    "plt.plot(F,graph2a,F, graph2b)\n",
    "plt.ylabel(\"LMP\")\n",
    "plt.xlabel(\"P12_\")\n",
    "plt.legend([\"PG1\",\"PG2\"])"
   ]
  },
  {
   "cell_type": "code",
   "execution_count": null,
   "metadata": {},
   "outputs": [],
   "source": []
  }
 ],
 "metadata": {
  "kernelspec": {
   "display_name": "Python 3",
   "language": "python",
   "name": "python3"
  },
  "language_info": {
   "codemirror_mode": {
    "name": "ipython",
    "version": 3
   },
   "file_extension": ".py",
   "mimetype": "text/x-python",
   "name": "python",
   "nbconvert_exporter": "python",
   "pygments_lexer": "ipython3",
   "version": "3.7.7"
  }
 },
 "nbformat": 4,
 "nbformat_minor": 2
}
