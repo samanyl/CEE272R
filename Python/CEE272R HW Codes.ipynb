{
 "cells": [
  {
   "cell_type": "code",
   "execution_count": 2,
   "metadata": {},
   "outputs": [],
   "source": [
    "import numpy as np\n",
    "import matplotlib.pyplot as plt\n",
    "import math\n",
    "import pandas as pd\n",
    "import load_cdf as cdf\n",
    "import cmath\n",
    "import scipy.sparse\n",
    "from scipy.sparse import csr_matrix, diags, linalg\n",
    "from sympy.solvers import solve\n",
    "from sympy import Symbol\n",
    "import cvxpy as cvx"
   ]
  },
  {
   "cell_type": "code",
   "execution_count": null,
   "metadata": {},
   "outputs": [],
   "source": [
    "# `numpy.random` uses its own PRNG.\n",
    "\n",
    "r = np.round(np.random.rand(1000),1)\n",
    "plt.hist(x=r,bins=[0. , 0.1, 0.2, 0.3, 0.4, 0.5, 0.6, 0.7, 0.8, 0.9, 1. ])"
   ]
  },
  {
   "cell_type": "code",
   "execution_count": null,
   "metadata": {},
   "outputs": [],
   "source": [
    "# matrix solver\n",
    "\n",
    "A = np.matrix([[3/20,-1/10,-1/20],[1/10,-29/200,1/40],[-1/20,-1/40,3/40]])\n",
    "b = np.matrix([[5],[0],[2]])\n",
    "\n",
    "A_inv = np.linalg.inv(A)\n",
    "\n",
    "x = A_inv * b\n",
    "\n",
    "x"
   ]
  },
  {
   "cell_type": "code",
   "execution_count": null,
   "metadata": {},
   "outputs": [],
   "source": [
    "# plotter\n",
    "\n",
    "f = 60\n",
    "w = 2 * np.pi * f\n",
    "t = np.arange(0,2/f,0.0001)\n",
    "\n",
    "v = 132.7 * math.sqrt(2) * np.cos(w * t)\n",
    "i = 13.27 * math.sqrt(2) * np.cos(w * t + np.radians(-30))\n",
    "p = v * i"
   ]
  },
  {
   "cell_type": "code",
   "execution_count": null,
   "metadata": {},
   "outputs": [],
   "source": [
    "plt.plot(t,v)\n",
    "plt.xlabel(\"Time (s)\")\n",
    "plt.ylabel(\"Voltage (kV)\")\n",
    "plt.title(\"V(t)\")\n",
    "plt.show()"
   ]
  },
  {
   "cell_type": "code",
   "execution_count": null,
   "metadata": {},
   "outputs": [],
   "source": [
    "plt.plot(t,i)\n",
    "plt.xlabel(\"Time (s)\")\n",
    "plt.ylabel(\"Current (kA)\")\n",
    "plt.title(\"I(t)\")\n",
    "plt.show()"
   ]
  },
  {
   "cell_type": "code",
   "execution_count": null,
   "metadata": {},
   "outputs": [],
   "source": [
    "plt.plot(t,p)\n",
    "plt.xlabel(\"Time (s)\")\n",
    "plt.ylabel(\"Power (MW)\")\n",
    "plt.title(\"P(t)\")\n",
    "plt.show()"
   ]
  },
  {
   "cell_type": "code",
   "execution_count": null,
   "metadata": {},
   "outputs": [],
   "source": [
    "# compute the real power at each bus and the power lost through the distribution line\n",
    "\n",
    "def ComputeTwoBusRealPower(Z, V1, theta1, V2, theta2):\n",
    "    V1 = complex(V1 * np.cos(np.radians(theta1)), V1 * np.sin(np.radians(theta1)))\n",
    "    V2 = complex(V2 * np.cos(np.radians(theta2)), V2 * np.sin(np.radians(theta2)))\n",
    "    \n",
    "    I = (V1-V2) / Z\n",
    "    \n",
    "    S1 = V1 * I.conjugate()\n",
    "    S2 = V2 * I.conjugate()\n",
    "    \n",
    "    P1 = S1.real\n",
    "    P2 = S2.real\n",
    "    PL = P1 - P2\n",
    "    \n",
    "    return [P1, P2, PL]\n",
    "\n",
    "\n",
    "# compute the reactive power at each bus and the power lost through the distribution line\n",
    "\n",
    "def ComputeTwoBusReactivePower(Z, V1, theta1, V2, theta2):\n",
    "    V1 = complex(V1 * np.cos(np.radians(theta1)), V1 * np.sin(np.radians(theta1)))\n",
    "    V2 = complex(V2 * np.cos(np.radians(theta2)), V2 * np.sin(np.radians(theta2)))\n",
    "    \n",
    "    I = (V1-V2) / Z\n",
    "    \n",
    "    S1 = V1 * I.conjugate()\n",
    "    S2 = V2 * I.conjugate()\n",
    "    \n",
    "    Q1 = S1.imag\n",
    "    Q2 = S2.imag\n",
    "    QL = Q1 - Q2\n",
    "    \n",
    "    return [Q1, Q2, QL]"
   ]
  },
  {
   "cell_type": "code",
   "execution_count": null,
   "metadata": {},
   "outputs": [],
   "source": [
    "# using prior function to solve for real power\n",
    "\n",
    "Z = complex(3,7)\n",
    "V1 = 120\n",
    "V2 = 100\n",
    "theta1 = np.arange(-30,30,1)\n",
    "theta2 = 0\n",
    "\n",
    "p1,p2,p3 = [],[],[]\n",
    "\n",
    "for x in theta1:\n",
    "    P = ComputeTwoBusRealPower(Z, V1, x, V2, theta2)\n",
    "    p1.append(P[0])\n",
    "    p2.append(P[1])\n",
    "    p3.append(P[2])\n",
    "    \n",
    "plt.plot(theta1, p1, theta1, p2,theta1, p3)\n",
    "plt.ylabel(\"Power (W)\")\n",
    "plt.xlabel(\"Phase Angle of Voltage Source #1 (radians)\")\n",
    "plt.title(\"Real Power in a Two-Bus System\")\n",
    "plt.legend([\"Bus 1\", \"Bus 2\", \"Consumed\"])\n",
    "plt.show"
   ]
  },
  {
   "cell_type": "code",
   "execution_count": null,
   "metadata": {},
   "outputs": [],
   "source": [
    "# using prior function to solve for reactive power\n",
    "\n",
    "Z = complex(3,7)\n",
    "V1 = np.arange(50,150,1)\n",
    "V2 = 100\n",
    "theta1 = -5\n",
    "theta2 = 0\n",
    "\n",
    "q1,q2,q3 = [],[],[]\n",
    "\n",
    "for x in V1:\n",
    "    Q = ComputeTwoBusReactivePower(Z, x, theta1, V2, theta2)\n",
    "    q1.append(Q[0])\n",
    "    q2.append(Q[1])\n",
    "    q3.append(Q[2])\n",
    "    \n",
    "plt.plot(V1,q1,V1,q2,V1,q3)\n",
    "plt.ylabel(\"Reactive Power (VAR)\")\n",
    "plt.xlabel(\"Voltage of Voltage Source #1 (V)\")\n",
    "plt.title(\"Reactive Power in a Two-Bus System\")\n",
    "plt.legend([\"Bus 1\", \"Bus 2\", \"Consumed\"])\n",
    "plt.show"
   ]
  },
  {
   "cell_type": "code",
   "execution_count": 2,
   "metadata": {},
   "outputs": [],
   "source": [
    "# converts complex number from cartesian form to polar form with angle in degrees\n",
    "\n",
    "def cartToPol(z):\n",
    "    p = z.real\n",
    "    q = z.imag\n",
    "    theta = np.degrees(np.arctan(q/p))\n",
    "    mag = np.sqrt(p**2 + q**2)\n",
    "    \n",
    "    return mag,theta\n",
    "\n",
    "\n",
    "# converts complex number from polar form with angle in degrees to cartesian form\n",
    "\n",
    "def polToCart(mag,theta):\n",
    "    p = mag * np.cos(np.radians(theta))\n",
    "    q = mag * np.sin(np.radians(theta))\n",
    "    return complex(p,q)\n",
    "\n",
    "\n",
    "# converts voltage or current phasor into its waveform\n",
    "\n",
    "def phasor2waveform(f,phasor,T):\n",
    "    w = 2 * np.pi * f\n",
    "    PeakValue = cartToPol(phasor)[0] * math.sqrt(2)\n",
    "    theta = cartToPol(phasor)[1]\n",
    "        \n",
    "    ans = input(\"Do you want a graph? [y/n]  \")\n",
    "    \n",
    "    if ans == \"y\" :\n",
    "        t = np.arange(0,T/f,0.0001)\n",
    "        y = PeakValue * np.cos(w * t + np.radians(theta))\n",
    "        plt.plot(t, y)\n",
    "        plt.ylabel(\"Voltage (V) or Current (A)\")\n",
    "        plt.xlabel(\"Time\")\n",
    "        plt.title(\"V(t) or I(t)\")\n",
    "        plt.show()\n",
    "    \n",
    "    return w, theta, PeakValue"
   ]
  },
  {
   "cell_type": "code",
   "execution_count": null,
   "metadata": {},
   "outputs": [],
   "source": [
    "ans = [cartToPol(complex(1,3)),cartToPol(complex(5,-0.5)),cartToPol(complex(10,-1)),polToCart(5,90),polToCart(3.4,-28),\n",
    "       polToCart(-3,110)]\n",
    "ans"
   ]
  },
  {
   "cell_type": "code",
   "execution_count": null,
   "metadata": {},
   "outputs": [],
   "source": [
    "ans1 = phasor2waveform(10,complex(3,5),0)\n",
    "ans1"
   ]
  },
  {
   "cell_type": "code",
   "execution_count": null,
   "metadata": {},
   "outputs": [],
   "source": [
    "ans2 = phasor2waveform(60,complex(0.4,-0.1),5)\n",
    "ans2"
   ]
  },
  {
   "cell_type": "code",
   "execution_count": null,
   "metadata": {},
   "outputs": [],
   "source": [
    "# transformer relative transmission line loss calculations\n",
    "\n",
    "a1 = np.arange(0.1,10,0.1)\n",
    "a2 = 1/a1\n",
    "\n",
    "V0 = polToCart(4,10)\n",
    "Sb = 8\n",
    "Vb = 4\n",
    "Vb1 = Vb + (0 * a1)\n",
    "Vb2 = a1 * Vb1\n",
    "Vb3 = a2 * Vb2\n",
    "\n",
    "Zb1 = Vb1**2 / Sb\n",
    "Zb2 = Vb2**2 / Sb\n",
    "Zb3 = Vb3**2 / Sb\n",
    "\n",
    "Z2 = Zb2 / complex(1,4)\n",
    "ZL = Zb3 / complex(4,2)\n",
    "\n",
    "I = (polToCart(Vb / cartToPol(V0)[0],cartToPol(V0)[1])) / (Z2 + ZL)\n",
    "V2 = Z2 * I\n",
    "VL = ZL * I\n",
    "S2 = V2 * I.conjugate()\n",
    "SL = VL * I.conjugate()\n",
    "\n",
    "S_rel = S2.real/SL.real\n",
    "\n",
    "plt.plot(a1,S_rel)\n",
    "plt.ylabel(\"Relative Transmission Line Loss\")\n",
    "plt.xlabel(\"Turns Ratio of First Transformer\")\n",
    "plt.title(\"Relating Transmission Line Loss to the Turns Ratio\")\n",
    "plt.show()\n"
   ]
  },
  {
   "cell_type": "code",
   "execution_count": null,
   "metadata": {},
   "outputs": [],
   "source": [
    "# Ybus Solver\n",
    "\n",
    "Ybus = np.matrix([[1,-1,0,0],\n",
    "                  [-1,complex(2.083333,-1),complex(-1/3,1),-1/4],\n",
    "                  [0,complex(-1/3,1),complex(1/3,-1/4),complex(0,-1/4)],\n",
    "                  [0,-1/4,complex(0,-1/4),complex(1/4,-0.0833333)]])\n",
    "I = np.matrix([\n",
    "    [polToCart(1,10)],\n",
    "    [0],\n",
    "    [0],\n",
    "    [polToCart(2,30)]])\n",
    "\n",
    "Ybus_inv = np.linalg.inv(Ybus)\n",
    "\n",
    "V = Ybus_inv * I\n",
    "\n",
    "V"
   ]
  },
  {
   "cell_type": "code",
   "execution_count": 67,
   "metadata": {},
   "outputs": [],
   "source": [
    "# assumes that p and B both contain the slack bus placeholder\n",
    "# theta is in degrees\n",
    "\n",
    "def pf_dc(B,p,slack):\n",
    "    M = B\n",
    "    M = M.toarray()\n",
    "    \n",
    "    M_slack = np.delete(np.delete(M,slack,0),slack,1)\n",
    "\n",
    "    p = np.delete(p,slack,0)   \n",
    "    \n",
    "    M_inv = np.linalg.inv(M_slack)\n",
    "    theta = np.insert(M_inv.dot(p),slack,0)\n",
    "    \n",
    "    return theta"
   ]
  },
  {
   "cell_type": "code",
   "execution_count": null,
   "metadata": {},
   "outputs": [],
   "source": [
    "# Assume the S and V values corresponding to what type of bus it is are known\n",
    "# S and V are the per unit bus complex powers and voltages\n",
    "# Ybus is the per unit bus admittance matrix\n",
    "# pv is generation bus, P and V are known\n",
    "# pq is a load bus, P and Q are known\n",
    "# slack is a slack bus, V and theta are known\n",
    "\n",
    "[Ybus,S,V,slack,pv,pq,mva] = cdf.load_cdf('ieee14cdf.txt')\n",
    "\n",
    "# for n in pq:\n",
    "#     S[n] = np.sqrt(n.imag**2 + n.real**2)\n",
    "\n",
    "B = Ybus.imag\n",
    "p = S.real\n",
    "\n",
    "theta = pf_dc(B,p,slack)\n",
    "\n",
    "print(theta)"
   ]
  },
  {
   "cell_type": "code",
   "execution_count": null,
   "metadata": {},
   "outputs": [],
   "source": [
    "y12 = np.reciprocal(complex(0.0017,0.024))\n",
    "y13 = np.reciprocal(complex(0.0016,0.021))\n",
    "y23 = np.reciprocal(complex(0.0010,0.021))\n",
    "\n",
    "Ybus = csr_matrix([[y12+y13,-y12,-y13],\n",
    "                   [-y12,y12+y23,-y23],\n",
    "                   [-y13,-y23,y13+y23]])\n",
    "\n",
    "B = Ybus.imag\n",
    "p = [0,-8,4.7]\n",
    "slack = 0\n",
    "\n",
    "theta = pf_dc(B,p,slack)\n",
    "\n",
    "print(theta)"
   ]
  },
  {
   "cell_type": "code",
   "execution_count": null,
   "metadata": {},
   "outputs": [],
   "source": [
    "eng = matlab.engine.start_matlab()\n",
    "eng.YBus(nargout=0)\n",
    "eng.quit()"
   ]
  },
  {
   "cell_type": "code",
   "execution_count": null,
   "metadata": {},
   "outputs": [],
   "source": [
    "Ybus = csr_matrix([[complex(0,-20),complex(0,10),complex(0,10)],\n",
    "                   [complex(0,10),complex(0,-20),complex(0,10)],\n",
    "                   [complex(0,10),complex(0,10),complex(0,-20)]])\n",
    "\n",
    "V = [complex(1,0),complex(0.998190,-0.060084),complex(0.992784,-0.119963)]\n",
    "\n",
    "p = [0,0,-1.8]\n",
    "B = Ybus.imag\n",
    "slack = 0\n",
    "\n",
    "theta = pf_dc(B,p,slack)\n",
    "\n",
    "print(np.degrees(theta))"
   ]
  },
  {
   "cell_type": "code",
   "execution_count": 33,
   "metadata": {},
   "outputs": [
    {
     "data": {
      "text/plain": [
       "[7539.822368615503,\n",
       " 158.3362697409256,\n",
       " 90.47786842338604,\n",
       " (50+158.3362697409256j),\n",
       " (80+90.47786842338604j),\n",
       " (0.007298160212150185-0.011945944221513025j),\n",
       " (0.007298160212150185-0.011945944221513025j),\n",
       " (0.007298160212150185+0.011945944221513025j),\n",
       " 0.5213387526266895,\n",
       " 0.003534660315392444,\n",
       " -0.00841128390612058,\n",
       " 1.1155811761736634e-06,\n",
       " 0.017368098948520323j,\n",
       " (0.0325+0j),\n",
       " -0.00841128390612058j,\n",
       " (0.007219711884889813+0.013509862936318033j),\n",
       " (0.007219711884889813+0.005098579030197453j),\n",
       " (0.007219711884889813+0.005098579030197453j),\n",
       " (0.008838537652122573, -35.229836330695484),\n",
       " 0.8168446149183967]"
      ]
     },
     "execution_count": 33,
     "metadata": {},
     "output_type": "execute_result"
    }
   ],
   "source": [
    "w = 2400 * np.pi\n",
    "x_L1 = w * 21 / 1000\n",
    "x_L2 = w * 12/1000\n",
    "z1 = complex(50,x_L1)\n",
    "z2 = complex(80,x_L2)\n",
    "Y = 1/z1 + 1/z2\n",
    "I = Y * 1\n",
    "S = 1 * np.conj(I)\n",
    "# S = cartToPol(S)\n",
    "# pf_a = np.cos(np.radians(S[1]))\n",
    "\n",
    "Q_new = np.sqrt((S.real/0.9)**2 - S.real **2)\n",
    "Q_c = Q_new - S.imag\n",
    "c = -Q_c / w\n",
    "\n",
    "y_L = complex(0,1 / x_L1 + 1 / x_L2)\n",
    "y_R = complex(1 / 50 + 1 / 80,0)\n",
    "y_C = 1 / complex(0,1/(w * c))\n",
    "y_LR = 1/ (1/ y_L + 1 / y_R)\n",
    "y = y_C + y_LR\n",
    "i = y * 1\n",
    "s = 1 * np.conj(i)\n",
    "s = cartToPol(s)\n",
    "pf_c = np.cos(np.radians(s[1]))\n",
    "[w,x_L1,x_L2,z1,z2,Y,I,S,pf_a,Q_new,Q_c,c,y_L,y_R,y_C,y_LR,y,i,s,pf_c]"
   ]
  },
  {
   "cell_type": "code",
   "execution_count": 2,
   "metadata": {},
   "outputs": [
    {
     "name": "stdout",
     "output_type": "stream",
     "text": [
      "646.0\n",
      "[ 6. 14.]\n",
      "[6.]\n",
      "[37.]\n",
      "[66.]\n"
     ]
    }
   ],
   "source": [
    "# DC OPF Solver w/ Line Constraints\n",
    "\n",
    "PL = 20 # load\n",
    "CQ = np.array([3, 2]) # cost; coefficients of quadratic terms\n",
    "CL = np.array([1, 10]) # cost; coefficients of linear terms\n",
    "F = 6 # line capacity\n",
    "\n",
    "# define the optimization problem\n",
    "PG = cvx.Variable(2) # optimization variables: PG1 and PG2\n",
    "P12 = cvx.Variable(1) # optimization variables: P12\n",
    "\n",
    "objective = cvx.quad_form(PG, np.diag(CQ)) + PG * CL # objective function. compact form of \n",
    "                                                     # CQ(1)*PG(1)^2+CL(1)*PG(1) +CQ(2)*PG(2)^2+CL(2)*PG(2)\n",
    "\n",
    "constraints = [PG[0] == P12, PG[1] + P12 == PL, -F <= P12, P12 <= F]\n",
    "prob = cvx.Problem(cvx.Minimize(objective), constraints)\n",
    "result = prob.solve()\n",
    "\n",
    "print(objective.value)  # optimal value of objective\n",
    "print(PG.value)\n",
    "print(P12.value)\n",
    "\n",
    "# Note: depending on how to express the equality constraints, \n",
    "# the returned dual variables (LMPs) could be negative.\n",
    "print(-constraints[0].dual_value)  # LMP1\n",
    "print(-constraints[1].dual_value)  # LMP2"
   ]
  },
  {
   "cell_type": "code",
   "execution_count": 7,
   "metadata": {},
   "outputs": [
    {
     "name": "stdout",
     "output_type": "stream",
     "text": [
      "603.9499999999997\n",
      "[ 8.9 11.1]\n",
      "54.399999999999984\n"
     ]
    }
   ],
   "source": [
    "# DC OPF Solver w/o Line Constraints\n",
    "\n",
    "PL = 20 # load\n",
    "CQ = np.array([3, 2]) # cost; coefficients of quadratic terms\n",
    "CL = np.array([1, 10]) # cost; coefficients of linear terms\n",
    "F = 6 # line capacity\n",
    "\n",
    "# define the optimization problem\n",
    "PG = cvx.Variable(2) # optimization variables: PG1 and PG2\n",
    "P12 = cvx.Variable(1) # optimization variables: P12\n",
    "\n",
    "objective = cvx.quad_form(PG, np.diag(CQ)) + PG * CL # objective function. compact form of \n",
    "                                                     # CQ(1)*PG(1)^2+CL(1)*PG(1) +CQ(2)*PG(2)^2+CL(2)*PG(2)\n",
    "\n",
    "constraints = [PG[1] + PG[0] == PL]\n",
    "prob = cvx.Problem(cvx.Minimize(objective), constraints)\n",
    "result = prob.solve()\n",
    "\n",
    "print(objective.value)  # optimal value of objective\n",
    "print(PG.value)\n",
    "\n",
    "# Note: depending on how to express the equality constraints, \n",
    "# the returned dual variables (LMPs) could be negative.\n",
    "print(-constraints[0].dual_value)  # LMP1"
   ]
  },
  {
   "cell_type": "code",
   "execution_count": 9,
   "metadata": {},
   "outputs": [
    {
     "data": {
      "text/plain": [
       "Text(0.5, 0, 'P12_')"
      ]
     },
     "execution_count": 9,
     "metadata": {},
     "output_type": "execute_result"
    },
    {
     "data": {
      "image/png": "[encoded data removed]",
      "text/plain": [
       "<Figure size 432x288 with 1 Axes>"
      ]
     },
     "metadata": {
      "needs_background": "light"
     },
     "output_type": "display_data"
    }
   ],
   "source": [
    "# DC OPF Solver w/ Line Constraints\n",
    "\n",
    "PL = 20 # load\n",
    "CQ = np.array([3, 2]) # cost; coefficients of quadratic terms\n",
    "CL = np.array([1, 10]) # cost; coefficients of linear terms\n",
    "F = np.arange(1,16) # line capacity\n",
    "\n",
    "graph1 = []\n",
    "graph2a = []\n",
    "graph2b = []\n",
    "\n",
    "# define the optimization problem\n",
    "PG = cvx.Variable(2) # optimization variables: PG1 and PG2\n",
    "P12 = cvx.Variable(1) # optimization variables: P12\n",
    "\n",
    "objective = cvx.quad_form(PG, np.diag(CQ)) + PG * CL # objective function. compact form of \n",
    "                                                     # CQ(1)*PG(1)^2+CL(1)*PG(1) +CQ(2)*PG(2)^2+CL(2)*PG(2)\n",
    "\n",
    "for f in F:\n",
    "    constraints = [PG[0] == P12, PG[1] + P12 == PL, -f <= P12, P12 <= f]\n",
    "    prob = cvx.Problem(cvx.Minimize(objective), constraints)\n",
    "    result = prob.solve()\n",
    "\n",
    "    graph1.append(f-P12.value)\n",
    "    graph2a.append(constraints[0].dual_value)\n",
    "    graph2b.append(constraints[1].dual_value)\n",
    "    \n",
    "plt.plot(F,graph1)\n",
    "plt.ylabel(\"P12_ - P12*\")\n",
    "plt.xlabel(\"P12_\")"
   ]
  },
  {
   "cell_type": "code",
   "execution_count": 12,
   "metadata": {},
   "outputs": [
    {
     "data": {
      "text/plain": [
       "<matplotlib.legend.Legend at 0x1f2ed5b0208>"
      ]
     },
     "execution_count": 12,
     "metadata": {},
     "output_type": "execute_result"
    },
    {
     "data": {
      "image/png": "[encoded data removed]",
      "text/plain": [
       "<Figure size 432x288 with 1 Axes>"
      ]
     },
     "metadata": {
      "needs_background": "light"
     },
     "output_type": "display_data"
    }
   ],
   "source": [
    "plt.plot(F,graph2a,F, graph2b)\n",
    "plt.ylabel(\"LMP\")\n",
    "plt.xlabel(\"P12_\")\n",
    "plt.legend([\"PG1\",\"PG2\"])"
   ]
  },
  {
   "cell_type": "code",
   "execution_count": 46,
   "metadata": {},
   "outputs": [
    {
     "name": "stdout",
     "output_type": "stream",
     "text": [
      "[ 0.         -0.01900748  0.15546134  0.23812203  0.34588065]\n"
     ]
    }
   ],
   "source": [
    "Ybus = csr_matrix([[2.2-21j,-1+10j,-1.2+11j,0,0],\n",
    "                   [-1+10j,2.3-15.6j,0,-1.3+5.6j,0],\n",
    "                   [-1.2+11j,0,1.35-20.8j,-1.15+9.8j,0],\n",
    "                   [0,-1.3+5.6j,-1.15+9.8j,3.85-27j,-1.4+11.6j],\n",
    "                   [0,0,0,-1.4+11.6j,1.4-11.6j]])\n",
    "\n",
    "B = Ybus.imag\n",
    "p = np.divide([0,163,-90,-100,-125],100) \n",
    "slack = 0\n",
    "\n",
    "theta = pf_dc(B,p,slack)\n",
    "\n",
    "print(theta)"
   ]
  },
  {
   "cell_type": "code",
   "execution_count": 47,
   "metadata": {},
   "outputs": [
    {
     "data": {
      "text/plain": [
       "array([ 152.,  163.,  -90., -100., -125.])"
      ]
     },
     "execution_count": 47,
     "metadata": {},
     "output_type": "execute_result"
    }
   ],
   "source": [
    "np.multiply(B.dot(theta),100)"
   ]
  },
  {
   "cell_type": "code",
   "execution_count": 48,
   "metadata": {},
   "outputs": [
    {
     "data": {
      "text/plain": [
       "[-19.00747590005901,\n",
       " 171.00747590005903,\n",
       " 143.992524099941,\n",
       " 81.00747590005909,\n",
       " 125.00000000000006]"
      ]
     },
     "execution_count": 48,
     "metadata": {},
     "output_type": "execute_result"
    }
   ],
   "source": [
    "P12 = 100 * B[0,1] * (theta[1] - theta[0])\n",
    "P13 = 100 * B[0,2] * (theta[2] - theta[0])\n",
    "P24 = 100 * B[1,3] * (theta[3] - theta[1])\n",
    "P34 = 100 * B[2,3] * (theta[3] - theta[2])\n",
    "P45 = 100 * B[3,4] * (theta[4] - theta[3])\n",
    "\n",
    "PL = [P12, P13, P24, P34, P45]\n",
    "PL"
   ]
  },
  {
   "cell_type": "code",
   "execution_count": 95,
   "metadata": {},
   "outputs": [
    {
     "data": {
      "text/plain": [
       "[13.729096989966576,\n",
       " 218.2709030100335,\n",
       " 176.7290969899666,\n",
       " 128.2709030100335,\n",
       " 205.00000000000006,\n",
       " 80.0]"
      ]
     },
     "execution_count": 95,
     "metadata": {},
     "output_type": "execute_result"
    }
   ],
   "source": [
    "# SF\n",
    "\n",
    "SF = 90 * (0.01 + 0.02j)\n",
    "Ybus = csr_matrix([[2.2-21j,-1+10j,-1.2+11j,0,0,0],\n",
    "                   [-1+10j,2.3-15.6j,0,-1.3+5.6j,0,0],\n",
    "                   [-1.2+11j,0,1.35-20.8j,-1.15+9.8j,0,0],\n",
    "                   [0,-1.3+5.6j,-1.15+9.8j,3.85-27j,-1.4+11.6j,0],\n",
    "                   [0,0,0,-1.4+11.6j,(1.4-11.6j) + SF,-SF],\n",
    "                   [0,0,0,0,-SF,SF]])\n",
    "\n",
    "B = Ybus.imag\n",
    "p = np.divide([152,163,-90,-100,-125,-80],100) \n",
    "slack = 0\n",
    "\n",
    "theta = pf_dc(B,p,slack)\n",
    "\n",
    "P12 = 100 * B[0,1] * (theta[1] - theta[0])\n",
    "P13 = 100 * B[0,2] * (theta[2] - theta[0])\n",
    "P24 = 100 * B[1,3] * (theta[3] - theta[1])\n",
    "P34 = 100 * B[2,3] * (theta[3] - theta[2])\n",
    "P45 = 100 * B[3,4] * (theta[4] - theta[3])\n",
    "P56 = 100 * B[4,5] * (theta[5] - theta[4])\n",
    "\n",
    "PL = [P12, P13, P24, P34, P45, P56]\n",
    "PL"
   ]
  },
  {
   "cell_type": "code",
   "execution_count": 96,
   "metadata": {},
   "outputs": [
    {
     "data": {
      "text/plain": [
       "[13.729096989966564,\n",
       " 218.27090301003352,\n",
       " 176.7290969899666,\n",
       " 128.27090301003346,\n",
       " 125.00000000000009,\n",
       " 80.00000000000003]"
      ]
     },
     "execution_count": 96,
     "metadata": {},
     "output_type": "execute_result"
    }
   ],
   "source": [
    "# SJ\n",
    "\n",
    "SF = 120 * (0.01 + 0.02j)\n",
    "Ybus = csr_matrix([[2.2-21j,-1+10j,-1.2+11j,0,0,0],\n",
    "                   [-1+10j,2.3-15.6j,0,-1.3+5.6j,0,0],\n",
    "                   [-1.2+11j,0,1.35-20.8j,-1.15+9.8j,0,0],\n",
    "                   [0,-1.3+5.6j,-1.15+9.8j,(3.85-27j)+SF,-1.4+11.6j,-SF],\n",
    "                   [0,0,0,-1.4+11.6j,(1.4-11.6j),0],\n",
    "                   [0,0,0,-SF,0,SF]])\n",
    "\n",
    "B = Ybus.imag\n",
    "p = np.divide([152,163,-90,-100,-125,-80],100) \n",
    "slack = 0\n",
    "\n",
    "theta = pf_dc(B,p,slack)\n",
    "\n",
    "P12 = 100 * B[0,1] * (theta[1] - theta[0])\n",
    "P13 = 100 * B[0,2] * (theta[2] - theta[0])\n",
    "P24 = 100 * B[1,3] * (theta[3] - theta[1])\n",
    "P34 = 100 * B[2,3] * (theta[3] - theta[2])\n",
    "P45 = 100 * B[3,4] * (theta[4] - theta[3])\n",
    "P46 = 100 * B[3,5] * (theta[5] - theta[3])\n",
    "\n",
    "PL = [P12, P13, P24, P34, P45, P46]\n",
    "PL"
   ]
  },
  {
   "cell_type": "code",
   "execution_count": 97,
   "metadata": {},
   "outputs": [
    {
     "data": {
      "text/plain": [
       "array([ 232.,  163.,  -90., -100., -125.,  -80.])"
      ]
     },
     "execution_count": 97,
     "metadata": {},
     "output_type": "execute_result"
    }
   ],
   "source": [
    "# Fresno\n",
    "\n",
    "SF = 170 * (0.01 + 0.02j)\n",
    "Ybus = csr_matrix([[2.2-21j,-1+10j,-1.2+11j,0,0,0],\n",
    "                   [-1+10j,(2.3-15.6j)+SF,0,-1.3+5.6j,0,-SF],\n",
    "                   [-1.2+11j,0,1.35-20.8j,-1.15+9.8j,0,0],\n",
    "                   [0,-1.3+5.6j,-1.15+9.8j,(3.85-27j),-1.4+11.6j,0],\n",
    "                   [0,0,0,-1.4+11.6j,(1.4-11.6j),0],\n",
    "                   [0,-SF,0,0,0,SF]])\n",
    "\n",
    "B = Ybus.imag\n",
    "p = np.divide([152,163,-90,-100,-125,-80],100) \n",
    "slack = 0\n",
    "\n",
    "theta = pf_dc(B,p,slack)\n",
    "\n",
    "P12 = 100 * B[0,1] * (theta[1] - theta[0])\n",
    "P13 = 100 * B[0,2] * (theta[2] - theta[0])\n",
    "P24 = 100 * B[1,3] * (theta[3] - theta[1])\n",
    "P34 = 100 * B[2,3] * (theta[3] - theta[2])\n",
    "P45 = 100 * B[3,4] * (theta[4] - theta[3])\n",
    "P26 = 100 * B[1,5] * (theta[5] - theta[1])\n",
    "\n",
    "PL = [P12, P13, P24, P34, P45, P26]\n",
    "PL\n",
    "np.multiply(B.dot(theta),100)"
   ]
  },
  {
   "cell_type": "code",
   "execution_count": 93,
   "metadata": {},
   "outputs": [
    {
     "data": {
      "text/plain": [
       "array([ 138.,  163.,  -90., -100., -125.,  -80.,   94.])"
      ]
     },
     "execution_count": 93,
     "metadata": {},
     "output_type": "execute_result"
    }
   ],
   "source": [
    "# Fresno\n",
    "\n",
    "SF = 170 * (0.01 + 0.02j)\n",
    "Ybus = csr_matrix([[2.2-21j+1.2-6j,-1+10j,-1.2+11j,0,0,0,-1.2+6j],\n",
    "                   [-1+10j,(2.3-15.6j)+SF,0,-1.3+5.6j,0,-SF,0],\n",
    "                   [-1.2+11j,0,1.35-20.8j,-1.15+9.8j,0,0,0],\n",
    "                   [0,-1.3+5.6j,-1.15+9.8j,(3.85-27j+1.03-8.3j),-1.4+11.6j,0,-1.03+8.3j],\n",
    "                   [0,0,0,-1.4+11.6j,(1.4-11.6j),0,0],\n",
    "                   [0,-SF,0,0,0,SF,0],\n",
    "                   [-1.2+6j,0,0,-1.03+8.3j,0,0,2.23-14.3j]])\n",
    "\n",
    "B = Ybus.imag\n",
    "p = np.divide([232 ,163,-90,-100,-125,-80,94],100) \n",
    "slack = 0\n",
    "\n",
    "theta = pf_dc(B,p,slack)\n",
    "\n",
    "np.multiply(B.dot(theta),100)"
   ]
  },
  {
   "cell_type": "code",
   "execution_count": 94,
   "metadata": {},
   "outputs": [
    {
     "data": {
      "text/plain": [
       "[0.41407948906939385,\n",
       " 125.00888495465163,\n",
       " 83.41407948906938,\n",
       " 35.00888495465162,\n",
       " 125.00000000000009,\n",
       " 79.99999999999999,\n",
       " 12.577035556279032,\n",
       " -106.57703555627899]"
      ]
     },
     "execution_count": 94,
     "metadata": {},
     "output_type": "execute_result"
    }
   ],
   "source": [
    "P12 = 100 * B[0,1] * (theta[1] - theta[0])\n",
    "P13 = 100 * B[0,2] * (theta[2] - theta[0])\n",
    "P24 = 100 * B[1,3] * (theta[3] - theta[1])\n",
    "P34 = 100 * B[2,3] * (theta[3] - theta[2])\n",
    "P45 = 100 * B[3,4] * (theta[4] - theta[3])\n",
    "P26 = 100 * B[1,5] * (theta[5] - theta[1])\n",
    "P17 = 100 * B[0,6] * (theta[6] - theta[0])\n",
    "P47 = 100 * B[3,6] * (theta[6] - theta[3])\n",
    "\n",
    "PL = [P12, P13, P24, P34, P45, P26, P17, P47]\n",
    "PL\n"
   ]
  },
  {
   "cell_type": "code",
   "execution_count": 6,
   "metadata": {},
   "outputs": [
    {
     "name": "stderr",
     "output_type": "stream",
     "text": [
      "C:\\Users\\samanyl\\AppData\\Local\\Continuum\\anaconda3\\lib\\site-packages\\cvxpy\\expressions\\expression.py:516: UserWarning: \n",
      "This use of ``*`` has resulted in matrix multiplication.\n",
      "Using ``*`` for matrix multiplication has been deprecated since CVXPY 1.1.\n",
      "    Use ``*`` for matrix-scalar and vector-scalar multiplication.\n",
      "    Use ``@`` for matrix-matrix and matrix-vector multiplication.\n",
      "    Use ``multiply`` for elementwise multiplication.\n",
      "\n",
      "  warnings.warn(__STAR_MATMUL_WARNING__, UserWarning)\n"
     ]
    },
    {
     "ename": "ValueError",
     "evalue": "setting an array element with a sequence.",
     "output_type": "error",
     "traceback": [
      "\u001b[1;31m---------------------------------------------------------------------------\u001b[0m",
      "\u001b[1;31mValueError\u001b[0m                                Traceback (most recent call last)",
      "\u001b[1;32m<ipython-input-6-8717a382b73e>\u001b[0m in \u001b[0;36m<module>\u001b[1;34m\u001b[0m\n\u001b[0;32m      9\u001b[0m \u001b[1;33m\u001b[0m\u001b[0m\n\u001b[0;32m     10\u001b[0m \u001b[0mPG\u001b[0m \u001b[1;33m=\u001b[0m \u001b[0mcvx\u001b[0m\u001b[1;33m.\u001b[0m\u001b[0mVariable\u001b[0m\u001b[1;33m(\u001b[0m\u001b[0mT\u001b[0m\u001b[1;33m)\u001b[0m \u001b[1;31m# define the variable with its dimension\u001b[0m\u001b[1;33m\u001b[0m\u001b[1;33m\u001b[0m\u001b[0m\n\u001b[1;32m---> 11\u001b[1;33m \u001b[0mobjective\u001b[0m \u001b[1;33m=\u001b[0m \u001b[0mcvx\u001b[0m\u001b[1;33m.\u001b[0m\u001b[0mnorm\u001b[0m\u001b[1;33m(\u001b[0m\u001b[0mP\u001b[0m\u001b[1;33m*\u001b[0m\u001b[1;33m(\u001b[0m\u001b[0meff\u001b[0m\u001b[1;33m*\u001b[0m\u001b[0mPG\u001b[0m\u001b[1;33m)\u001b[0m\u001b[1;33m,\u001b[0m \u001b[0mp\u001b[0m \u001b[1;33m=\u001b[0m \u001b[1;36m2\u001b[0m\u001b[1;33m)\u001b[0m \u001b[1;31m# define the objective function\u001b[0m\u001b[1;33m\u001b[0m\u001b[1;33m\u001b[0m\u001b[0m\n\u001b[0m\u001b[0;32m     12\u001b[0m \u001b[0mconstraints\u001b[0m \u001b[1;33m=\u001b[0m \u001b[1;33m[\u001b[0m\u001b[0mPG\u001b[0m \u001b[1;33m<=\u001b[0m \u001b[0mGUL\u001b[0m\u001b[1;33m,\u001b[0m \u001b[0mx\u001b[0m \u001b[1;33m>=\u001b[0m \u001b[1;36m0\u001b[0m\u001b[1;33m,\u001b[0m \u001b[0mnp\u001b[0m\u001b[1;33m.\u001b[0m\u001b[0msum\u001b[0m\u001b[1;33m(\u001b[0m\u001b[0mPG\u001b[0m\u001b[1;33m)\u001b[0m \u001b[1;33m==\u001b[0m \u001b[0mLL\u001b[0m\u001b[1;33m]\u001b[0m\u001b[1;33m\u001b[0m\u001b[1;33m\u001b[0m\u001b[0m\n\u001b[0;32m     13\u001b[0m \u001b[0mprob\u001b[0m \u001b[1;33m=\u001b[0m \u001b[0mcvx\u001b[0m\u001b[1;33m.\u001b[0m\u001b[0mProblem\u001b[0m\u001b[1;33m(\u001b[0m\u001b[0mcvx\u001b[0m\u001b[1;33m.\u001b[0m\u001b[0mMinimize\u001b[0m\u001b[1;33m(\u001b[0m\u001b[0mobjective\u001b[0m\u001b[1;33m)\u001b[0m\u001b[1;33m,\u001b[0m \u001b[0mconstraints\u001b[0m\u001b[1;33m)\u001b[0m\u001b[1;33m\u001b[0m\u001b[1;33m\u001b[0m\u001b[0m\n",
      "\u001b[1;32m~\\AppData\\Local\\Continuum\\anaconda3\\lib\\site-packages\\cvxpy\\atoms\\norm.py\u001b[0m in \u001b[0;36mnorm\u001b[1;34m(x, p, axis)\u001b[0m\n\u001b[0;32m     45\u001b[0m         \u001b[0mAn\u001b[0m \u001b[0mExpression\u001b[0m \u001b[0mrepresenting\u001b[0m \u001b[0mthe\u001b[0m \u001b[0mnorm\u001b[0m\u001b[1;33m.\u001b[0m\u001b[1;33m\u001b[0m\u001b[1;33m\u001b[0m\u001b[0m\n\u001b[0;32m     46\u001b[0m     \"\"\"\n\u001b[1;32m---> 47\u001b[1;33m     \u001b[0mx\u001b[0m \u001b[1;33m=\u001b[0m \u001b[0mExpression\u001b[0m\u001b[1;33m.\u001b[0m\u001b[0mcast_to_const\u001b[0m\u001b[1;33m(\u001b[0m\u001b[0mx\u001b[0m\u001b[1;33m)\u001b[0m\u001b[1;33m\u001b[0m\u001b[1;33m\u001b[0m\u001b[0m\n\u001b[0m\u001b[0;32m     48\u001b[0m     \u001b[1;31m# matrix norms take precedence\u001b[0m\u001b[1;33m\u001b[0m\u001b[1;33m\u001b[0m\u001b[1;33m\u001b[0m\u001b[0m\n\u001b[0;32m     49\u001b[0m     \u001b[0mnum_nontrivial_idxs\u001b[0m \u001b[1;33m=\u001b[0m \u001b[0msum\u001b[0m\u001b[1;33m(\u001b[0m\u001b[1;33m[\u001b[0m\u001b[0md\u001b[0m \u001b[1;33m>\u001b[0m \u001b[1;36m1\u001b[0m \u001b[1;32mfor\u001b[0m \u001b[0md\u001b[0m \u001b[1;32min\u001b[0m \u001b[0mx\u001b[0m\u001b[1;33m.\u001b[0m\u001b[0mshape\u001b[0m\u001b[1;33m]\u001b[0m\u001b[1;33m)\u001b[0m\u001b[1;33m\u001b[0m\u001b[1;33m\u001b[0m\u001b[0m\n",
      "\u001b[1;32m~\\AppData\\Local\\Continuum\\anaconda3\\lib\\site-packages\\cvxpy\\expressions\\expression.py\u001b[0m in \u001b[0;36mcast_to_const\u001b[1;34m(expr)\u001b[0m\n\u001b[0;32m    458\u001b[0m         \"\"\"Converts a non-Expression to a Constant.\n\u001b[0;32m    459\u001b[0m         \"\"\"\n\u001b[1;32m--> 460\u001b[1;33m         \u001b[1;32mreturn\u001b[0m \u001b[0mexpr\u001b[0m \u001b[1;32mif\u001b[0m \u001b[0misinstance\u001b[0m\u001b[1;33m(\u001b[0m\u001b[0mexpr\u001b[0m\u001b[1;33m,\u001b[0m \u001b[0mExpression\u001b[0m\u001b[1;33m)\u001b[0m \u001b[1;32melse\u001b[0m \u001b[0mcvxtypes\u001b[0m\u001b[1;33m.\u001b[0m\u001b[0mconstant\u001b[0m\u001b[1;33m(\u001b[0m\u001b[1;33m)\u001b[0m\u001b[1;33m(\u001b[0m\u001b[0mexpr\u001b[0m\u001b[1;33m)\u001b[0m\u001b[1;33m\u001b[0m\u001b[1;33m\u001b[0m\u001b[0m\n\u001b[0m\u001b[0;32m    461\u001b[0m \u001b[1;33m\u001b[0m\u001b[0m\n\u001b[0;32m    462\u001b[0m     \u001b[1;33m@\u001b[0m\u001b[0m_cast_other\u001b[0m\u001b[1;33m\u001b[0m\u001b[1;33m\u001b[0m\u001b[0m\n",
      "\u001b[1;32m~\\AppData\\Local\\Continuum\\anaconda3\\lib\\site-packages\\cvxpy\\expressions\\constants\\constant.py\u001b[0m in \u001b[0;36m__init__\u001b[1;34m(self, value)\u001b[0m\n\u001b[0;32m     43\u001b[0m             \u001b[0mself\u001b[0m\u001b[1;33m.\u001b[0m\u001b[0m_sparse\u001b[0m \u001b[1;33m=\u001b[0m \u001b[1;32mTrue\u001b[0m\u001b[1;33m\u001b[0m\u001b[1;33m\u001b[0m\u001b[0m\n\u001b[0;32m     44\u001b[0m         \u001b[1;32melse\u001b[0m\u001b[1;33m:\u001b[0m\u001b[1;33m\u001b[0m\u001b[1;33m\u001b[0m\u001b[0m\n\u001b[1;32m---> 45\u001b[1;33m             \u001b[0mself\u001b[0m\u001b[1;33m.\u001b[0m\u001b[0m_value\u001b[0m \u001b[1;33m=\u001b[0m \u001b[0mintf\u001b[0m\u001b[1;33m.\u001b[0m\u001b[0mDEFAULT_INTF\u001b[0m\u001b[1;33m.\u001b[0m\u001b[0mconst_to_matrix\u001b[0m\u001b[1;33m(\u001b[0m\u001b[0mvalue\u001b[0m\u001b[1;33m)\u001b[0m\u001b[1;33m\u001b[0m\u001b[1;33m\u001b[0m\u001b[0m\n\u001b[0m\u001b[0;32m     46\u001b[0m             \u001b[0mself\u001b[0m\u001b[1;33m.\u001b[0m\u001b[0m_sparse\u001b[0m \u001b[1;33m=\u001b[0m \u001b[1;32mFalse\u001b[0m\u001b[1;33m\u001b[0m\u001b[1;33m\u001b[0m\u001b[0m\n\u001b[0;32m     47\u001b[0m         \u001b[0mself\u001b[0m\u001b[1;33m.\u001b[0m\u001b[0m_imag\u001b[0m \u001b[1;33m=\u001b[0m \u001b[1;32mNone\u001b[0m\u001b[1;33m\u001b[0m\u001b[1;33m\u001b[0m\u001b[0m\n",
      "\u001b[1;32m~\\AppData\\Local\\Continuum\\anaconda3\\lib\\site-packages\\cvxpy\\interface\\numpy_interface\\ndarray_interface.py\u001b[0m in \u001b[0;36mconst_to_matrix\u001b[1;34m(self, value, convert_scalars)\u001b[0m\n\u001b[0;32m     48\u001b[0m             \u001b[1;32mreturn\u001b[0m \u001b[0mresult\u001b[0m\u001b[1;33m\u001b[0m\u001b[1;33m\u001b[0m\u001b[0m\n\u001b[0;32m     49\u001b[0m         \u001b[1;32melse\u001b[0m\u001b[1;33m:\u001b[0m\u001b[1;33m\u001b[0m\u001b[1;33m\u001b[0m\u001b[0m\n\u001b[1;32m---> 50\u001b[1;33m             \u001b[1;32mreturn\u001b[0m \u001b[0mresult\u001b[0m\u001b[1;33m.\u001b[0m\u001b[0mastype\u001b[0m\u001b[1;33m(\u001b[0m\u001b[0mnumpy\u001b[0m\u001b[1;33m.\u001b[0m\u001b[0mfloat64\u001b[0m\u001b[1;33m)\u001b[0m\u001b[1;33m\u001b[0m\u001b[1;33m\u001b[0m\u001b[0m\n\u001b[0m\u001b[0;32m     51\u001b[0m \u001b[1;33m\u001b[0m\u001b[0m\n\u001b[0;32m     52\u001b[0m     \u001b[1;31m# Return an identity matrix.\u001b[0m\u001b[1;33m\u001b[0m\u001b[1;33m\u001b[0m\u001b[1;33m\u001b[0m\u001b[0m\n",
      "\u001b[1;31mValueError\u001b[0m: setting an array element with a sequence."
     ]
    }
   ],
   "source": [
    "## don't know how to make this work\n",
    "\n",
    "file = pd.read_csv('C:/Users/samanyl/Box/Work Files/Working Files/hrc_loads.csv')\n",
    "hrc_2011 = file['HRC 2011']\n",
    "P = file['$/kw-10min']\n",
    "GUL = 2500\n",
    "GLL = 2000\n",
    "eff = 1.41\n",
    "T = len(hrc_2011)\n",
    "LL = np.sum(hrc_2011)\n",
    "\n",
    "PG = cvx.Variable(T) # define the variable with its dimension\n",
    "objective = cvx.norm(P*(eff*PG), p = 2) # define the objective function\n",
    "constraints = [PG <= GUL, x >= 0, np.sum(PG) == LL]\n",
    "prob = cvx.Problem(cvx.Minimize(objective), constraints)\n",
    "result = prob.solve()\n",
    "\n",
    "print(result)  # optimal value of objective\n",
    "print(objective.value)  # optimal value of objective\n",
    "print(PG.value)"
   ]
  },
  {
   "cell_type": "code",
   "execution_count": null,
   "metadata": {},
   "outputs": [],
   "source": []
  }
 ],
 "metadata": {
  "kernelspec": {
   "display_name": "Python 3",
   "language": "python",
   "name": "python3"
  },
  "language_info": {
   "codemirror_mode": {
    "name": "ipython",
    "version": 3
   },
   "file_extension": ".py",
   "mimetype": "text/x-python",
   "name": "python",
   "nbconvert_exporter": "python",
   "pygments_lexer": "ipython3",
   "version": "3.7.4"
  }
 },
 "nbformat": 4,
 "nbformat_minor": 2
}
