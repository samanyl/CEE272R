{
 "cells": [
  {
   "cell_type": "code",
   "execution_count": 1,
   "metadata": {},
   "outputs": [],
   "source": [
    "import pandapower as pp\n",
    "import pandapower.networks as pn\n",
    "import matplotlib.pyplot as plt\n",
    "%matplotlib inline"
   ]
  },
  {
   "cell_type": "markdown",
   "metadata": {},
   "source": [
    "# 1. Network modeling"
   ]
  },
  {
   "cell_type": "code",
   "execution_count": 2,
   "metadata": {},
   "outputs": [],
   "source": [
    "network = pp.create_empty_network() #create an empty network"
   ]
  },
  {
   "cell_type": "markdown",
   "metadata": {},
   "source": [
    "## 1.1 model the buses"
   ]
  },
  {
   "cell_type": "code",
   "execution_count": 3,
   "metadata": {},
   "outputs": [],
   "source": [
    "# vn_kv: grid voltage level, type: \"b\"->\"busbar\", zone: grid region, \n",
    "                  # max_vm_pu: maximum bus voltage in p.u., min_vm_pu: minimum bus voltage in p.u.\n",
    "b0 = pp.create_bus(network, name=\"0\", vn_kv=100, type=\"b\", zone=1, \n",
    "                   in_service=True, max_vm_pu=1.06, min_vm_pu=0.94, geodata=(0, 5)) \n",
    "b1 = pp.create_bus(network, name=\"1\", vn_kv=100, type=\"b\", zone=1, \n",
    "                   in_service=True, max_vm_pu=1.06, min_vm_pu=0.94, geodata=(0, 0)) \n",
    "b2 = pp.create_bus(network, name=\"2\", vn_kv=100, type=\"b\", zone=1, \n",
    "                   in_service=True, max_vm_pu=1.06, min_vm_pu=0.94, geodata=(5, 5)) \n",
    "b3 = pp.create_bus(network, name=\"3\", vn_kv=100, type=\"b\", zone=1, \n",
    "                   in_service=True, max_vm_pu=1.06, min_vm_pu=0.94, geodata=(10, 5)) \n",
    "b4 = pp.create_bus(network, name=\"4\", vn_kv=100, type=\"b\", zone=1, \n",
    "                   in_service=True, max_vm_pu=1.06, min_vm_pu=0.94, geodata=(10, 0)) "
   ]
  },
  {
   "cell_type": "code",
   "execution_count": 4,
   "metadata": {},
   "outputs": [
    {
     "data": {
      "text/html": [
       "<div>\n",
       "<style scoped>\n",
       "    .dataframe tbody tr th:only-of-type {\n",
       "        vertical-align: middle;\n",
       "    }\n",
       "\n",
       "    .dataframe tbody tr th {\n",
       "        vertical-align: top;\n",
       "    }\n",
       "\n",
       "    .dataframe thead th {\n",
       "        text-align: right;\n",
       "    }\n",
       "</style>\n",
       "<table border=\"1\" class=\"dataframe\">\n",
       "  <thead>\n",
       "    <tr style=\"text-align: right;\">\n",
       "      <th></th>\n",
       "      <th>name</th>\n",
       "      <th>vn_kv</th>\n",
       "      <th>type</th>\n",
       "      <th>zone</th>\n",
       "      <th>in_service</th>\n",
       "      <th>min_vm_pu</th>\n",
       "      <th>max_vm_pu</th>\n",
       "    </tr>\n",
       "  </thead>\n",
       "  <tbody>\n",
       "    <tr>\n",
       "      <th>0</th>\n",
       "      <td>0</td>\n",
       "      <td>100.0</td>\n",
       "      <td>b</td>\n",
       "      <td>1</td>\n",
       "      <td>True</td>\n",
       "      <td>0.94</td>\n",
       "      <td>1.06</td>\n",
       "    </tr>\n",
       "    <tr>\n",
       "      <th>1</th>\n",
       "      <td>1</td>\n",
       "      <td>100.0</td>\n",
       "      <td>b</td>\n",
       "      <td>1</td>\n",
       "      <td>True</td>\n",
       "      <td>0.94</td>\n",
       "      <td>1.06</td>\n",
       "    </tr>\n",
       "    <tr>\n",
       "      <th>2</th>\n",
       "      <td>2</td>\n",
       "      <td>100.0</td>\n",
       "      <td>b</td>\n",
       "      <td>1</td>\n",
       "      <td>True</td>\n",
       "      <td>0.94</td>\n",
       "      <td>1.06</td>\n",
       "    </tr>\n",
       "    <tr>\n",
       "      <th>3</th>\n",
       "      <td>3</td>\n",
       "      <td>100.0</td>\n",
       "      <td>b</td>\n",
       "      <td>1</td>\n",
       "      <td>True</td>\n",
       "      <td>0.94</td>\n",
       "      <td>1.06</td>\n",
       "    </tr>\n",
       "    <tr>\n",
       "      <th>4</th>\n",
       "      <td>4</td>\n",
       "      <td>100.0</td>\n",
       "      <td>b</td>\n",
       "      <td>1</td>\n",
       "      <td>True</td>\n",
       "      <td>0.94</td>\n",
       "      <td>1.06</td>\n",
       "    </tr>\n",
       "  </tbody>\n",
       "</table>\n",
       "</div>"
      ],
      "text/plain": [
       "  name  vn_kv type zone  in_service  min_vm_pu  max_vm_pu\n",
       "0    0  100.0    b    1        True       0.94       1.06\n",
       "1    1  100.0    b    1        True       0.94       1.06\n",
       "2    2  100.0    b    1        True       0.94       1.06\n",
       "3    3  100.0    b    1        True       0.94       1.06\n",
       "4    4  100.0    b    1        True       0.94       1.06"
      ]
     },
     "execution_count": 4,
     "metadata": {},
     "output_type": "execute_result"
    }
   ],
   "source": [
    "network.bus"
   ]
  },
  {
   "cell_type": "markdown",
   "metadata": {},
   "source": [
    "## 1.2 model the loads"
   ]
  },
  {
   "cell_type": "code",
   "execution_count": 5,
   "metadata": {},
   "outputs": [
    {
     "data": {
      "text/plain": [
       "3"
      ]
     },
     "execution_count": 5,
     "metadata": {},
     "output_type": "execute_result"
    }
   ],
   "source": [
    "# p_mw: The real power of the load, q_mvar: The reactive power of the load\n",
    "# whether a load is controllable or not. Only respected for OPF\n",
    "pp.create_load(network, b1, p_mw=20, q_mvar=10, controllable=False, in_service=True)\n",
    "pp.create_load(network, b2, p_mw=20, q_mvar=15, controllable=False, in_service=True)\n",
    "pp.create_load(network, b3, p_mw=50, q_mvar=30, controllable=False, in_service=True)\n",
    "pp.create_load(network, b4, p_mw=60, q_mvar=40, controllable=False, in_service=True)"
   ]
  },
  {
   "cell_type": "code",
   "execution_count": 6,
   "metadata": {},
   "outputs": [
    {
     "data": {
      "text/html": [
       "<div>\n",
       "<style scoped>\n",
       "    .dataframe tbody tr th:only-of-type {\n",
       "        vertical-align: middle;\n",
       "    }\n",
       "\n",
       "    .dataframe tbody tr th {\n",
       "        vertical-align: top;\n",
       "    }\n",
       "\n",
       "    .dataframe thead th {\n",
       "        text-align: right;\n",
       "    }\n",
       "</style>\n",
       "<table border=\"1\" class=\"dataframe\">\n",
       "  <thead>\n",
       "    <tr style=\"text-align: right;\">\n",
       "      <th></th>\n",
       "      <th>name</th>\n",
       "      <th>bus</th>\n",
       "      <th>p_mw</th>\n",
       "      <th>q_mvar</th>\n",
       "      <th>const_z_percent</th>\n",
       "      <th>const_i_percent</th>\n",
       "      <th>sn_mva</th>\n",
       "      <th>scaling</th>\n",
       "      <th>in_service</th>\n",
       "      <th>type</th>\n",
       "      <th>controllable</th>\n",
       "    </tr>\n",
       "  </thead>\n",
       "  <tbody>\n",
       "    <tr>\n",
       "      <th>0</th>\n",
       "      <td>None</td>\n",
       "      <td>1</td>\n",
       "      <td>20.0</td>\n",
       "      <td>10.0</td>\n",
       "      <td>0.0</td>\n",
       "      <td>0.0</td>\n",
       "      <td>NaN</td>\n",
       "      <td>1.0</td>\n",
       "      <td>True</td>\n",
       "      <td>None</td>\n",
       "      <td>False</td>\n",
       "    </tr>\n",
       "    <tr>\n",
       "      <th>1</th>\n",
       "      <td>None</td>\n",
       "      <td>2</td>\n",
       "      <td>20.0</td>\n",
       "      <td>15.0</td>\n",
       "      <td>0.0</td>\n",
       "      <td>0.0</td>\n",
       "      <td>NaN</td>\n",
       "      <td>1.0</td>\n",
       "      <td>True</td>\n",
       "      <td>None</td>\n",
       "      <td>False</td>\n",
       "    </tr>\n",
       "    <tr>\n",
       "      <th>2</th>\n",
       "      <td>None</td>\n",
       "      <td>3</td>\n",
       "      <td>50.0</td>\n",
       "      <td>30.0</td>\n",
       "      <td>0.0</td>\n",
       "      <td>0.0</td>\n",
       "      <td>NaN</td>\n",
       "      <td>1.0</td>\n",
       "      <td>True</td>\n",
       "      <td>None</td>\n",
       "      <td>False</td>\n",
       "    </tr>\n",
       "    <tr>\n",
       "      <th>3</th>\n",
       "      <td>None</td>\n",
       "      <td>4</td>\n",
       "      <td>60.0</td>\n",
       "      <td>40.0</td>\n",
       "      <td>0.0</td>\n",
       "      <td>0.0</td>\n",
       "      <td>NaN</td>\n",
       "      <td>1.0</td>\n",
       "      <td>True</td>\n",
       "      <td>None</td>\n",
       "      <td>False</td>\n",
       "    </tr>\n",
       "  </tbody>\n",
       "</table>\n",
       "</div>"
      ],
      "text/plain": [
       "   name  bus  p_mw  q_mvar  const_z_percent  const_i_percent  sn_mva  scaling  \\\n",
       "0  None    1  20.0    10.0              0.0              0.0     NaN      1.0   \n",
       "1  None    2  20.0    15.0              0.0              0.0     NaN      1.0   \n",
       "2  None    3  50.0    30.0              0.0              0.0     NaN      1.0   \n",
       "3  None    4  60.0    40.0              0.0              0.0     NaN      1.0   \n",
       "\n",
       "   in_service  type  controllable  \n",
       "0        True  None         False  \n",
       "1        True  None         False  \n",
       "2        True  None         False  \n",
       "3        True  None         False  "
      ]
     },
     "execution_count": 6,
     "metadata": {},
     "output_type": "execute_result"
    }
   ],
   "source": [
    "network.load"
   ]
  },
  {
   "cell_type": "markdown",
   "metadata": {},
   "source": [
    "## 1.3 model the generators (non-slack)"
   ]
  },
  {
   "cell_type": "code",
   "execution_count": 7,
   "metadata": {},
   "outputs": [
    {
     "data": {
      "text/plain": [
       "1"
      ]
     },
     "execution_count": 7,
     "metadata": {},
     "output_type": "execute_result"
    }
   ],
   "source": [
    "# pp.create_gen(network, b0, p_mw=0, vm_pu=1.06, max_p_mw=100, min_p_mw=10, max_q_mvar=50, min_q_mvar=10,\n",
    "#               in_service=True)\n",
    "# p_mw (float, default 0) - The real power of the generator (positive for generation!)\n",
    "# vm_pu (float, default 0) - The voltage set point of the generator\n",
    "# max_p_mw (float, default NaN) - Maximum active power injection - necessary for OPF\n",
    "# min_p_mw (float, default NaN) - Minimum active power injection - necessary for OPF\n",
    "# max_q_mvar (float, default NaN) - Maximum reactive power injection - necessary for OPF\n",
    "# min_q_mvar (float, default NaN) - Minimum reactive power injection - necessary for OPF\n",
    "pp.create_gen(network, b1, p_mw=40, vm_pu=1.045, max_p_mw=100, min_p_mw=10, max_q_mvar=50, min_q_mvar=10,\n",
    "              in_service=True, controllable=True)\n",
    "pp.create_gen(network, b2, p_mw=30, vm_pu=1.03, max_p_mw=100, min_p_mw=10, max_q_mvar=40, min_q_mvar=10,\n",
    "              in_service=True, controllable=True)"
   ]
  },
  {
   "cell_type": "code",
   "execution_count": 8,
   "metadata": {},
   "outputs": [
    {
     "data": {
      "text/html": [
       "<div>\n",
       "<style scoped>\n",
       "    .dataframe tbody tr th:only-of-type {\n",
       "        vertical-align: middle;\n",
       "    }\n",
       "\n",
       "    .dataframe tbody tr th {\n",
       "        vertical-align: top;\n",
       "    }\n",
       "\n",
       "    .dataframe thead th {\n",
       "        text-align: right;\n",
       "    }\n",
       "</style>\n",
       "<table border=\"1\" class=\"dataframe\">\n",
       "  <thead>\n",
       "    <tr style=\"text-align: right;\">\n",
       "      <th></th>\n",
       "      <th>name</th>\n",
       "      <th>bus</th>\n",
       "      <th>p_mw</th>\n",
       "      <th>vm_pu</th>\n",
       "      <th>sn_mva</th>\n",
       "      <th>min_q_mvar</th>\n",
       "      <th>max_q_mvar</th>\n",
       "      <th>scaling</th>\n",
       "      <th>slack</th>\n",
       "      <th>in_service</th>\n",
       "      <th>type</th>\n",
       "      <th>controllable</th>\n",
       "      <th>min_p_mw</th>\n",
       "      <th>max_p_mw</th>\n",
       "    </tr>\n",
       "  </thead>\n",
       "  <tbody>\n",
       "    <tr>\n",
       "      <th>0</th>\n",
       "      <td>None</td>\n",
       "      <td>1</td>\n",
       "      <td>40.0</td>\n",
       "      <td>1.045</td>\n",
       "      <td>NaN</td>\n",
       "      <td>10.0</td>\n",
       "      <td>50.0</td>\n",
       "      <td>1.0</td>\n",
       "      <td>False</td>\n",
       "      <td>True</td>\n",
       "      <td>None</td>\n",
       "      <td>True</td>\n",
       "      <td>10.0</td>\n",
       "      <td>100.0</td>\n",
       "    </tr>\n",
       "    <tr>\n",
       "      <th>1</th>\n",
       "      <td>None</td>\n",
       "      <td>2</td>\n",
       "      <td>30.0</td>\n",
       "      <td>1.030</td>\n",
       "      <td>NaN</td>\n",
       "      <td>10.0</td>\n",
       "      <td>40.0</td>\n",
       "      <td>1.0</td>\n",
       "      <td>False</td>\n",
       "      <td>True</td>\n",
       "      <td>None</td>\n",
       "      <td>True</td>\n",
       "      <td>10.0</td>\n",
       "      <td>100.0</td>\n",
       "    </tr>\n",
       "  </tbody>\n",
       "</table>\n",
       "</div>"
      ],
      "text/plain": [
       "   name  bus  p_mw  vm_pu  sn_mva  min_q_mvar  max_q_mvar  scaling  slack  \\\n",
       "0  None    1  40.0  1.045     NaN        10.0        50.0      1.0  False   \n",
       "1  None    2  30.0  1.030     NaN        10.0        40.0      1.0  False   \n",
       "\n",
       "   in_service  type  controllable  min_p_mw  max_p_mw  \n",
       "0        True  None          True      10.0     100.0  \n",
       "1        True  None          True      10.0     100.0  "
      ]
     },
     "execution_count": 8,
     "metadata": {},
     "output_type": "execute_result"
    }
   ],
   "source": [
    "network.gen"
   ]
  },
  {
   "cell_type": "markdown",
   "metadata": {},
   "source": [
    "## 1.4 model the slack generator"
   ]
  },
  {
   "cell_type": "code",
   "execution_count": 9,
   "metadata": {},
   "outputs": [
    {
     "data": {
      "text/plain": [
       "0"
      ]
     },
     "execution_count": 9,
     "metadata": {},
     "output_type": "execute_result"
    }
   ],
   "source": [
    "# vm_pu (float, default 1.0) - voltage at the slack node in per unit\n",
    "# va_degree (float, default 0.) - voltage angle at the slack node in degrees\n",
    "# max_p_mw (float, NaN) - Maximum active power injection. Only respected for OPF\n",
    "# min_p_mw (float, NaN) - Minimum active power injection. Only respected for OPF\n",
    "# max_q_mvar (float, NaN) - Maximum reactive power injection. Only respected for OPF\n",
    "# min_q_mvar (float, NaN) - Minimum reactive power injection. Only respected for OPF\n",
    "pp.create_ext_grid(network, b0, vm_pu=1.06, max_p_mw=100, min_p_mw=10, max_q_mvar=50, min_q_mvar=10)"
   ]
  },
  {
   "cell_type": "code",
   "execution_count": 10,
   "metadata": {},
   "outputs": [
    {
     "data": {
      "text/html": [
       "<div>\n",
       "<style scoped>\n",
       "    .dataframe tbody tr th:only-of-type {\n",
       "        vertical-align: middle;\n",
       "    }\n",
       "\n",
       "    .dataframe tbody tr th {\n",
       "        vertical-align: top;\n",
       "    }\n",
       "\n",
       "    .dataframe thead th {\n",
       "        text-align: right;\n",
       "    }\n",
       "</style>\n",
       "<table border=\"1\" class=\"dataframe\">\n",
       "  <thead>\n",
       "    <tr style=\"text-align: right;\">\n",
       "      <th></th>\n",
       "      <th>name</th>\n",
       "      <th>bus</th>\n",
       "      <th>vm_pu</th>\n",
       "      <th>va_degree</th>\n",
       "      <th>in_service</th>\n",
       "      <th>min_p_mw</th>\n",
       "      <th>max_p_mw</th>\n",
       "      <th>min_q_mvar</th>\n",
       "      <th>max_q_mvar</th>\n",
       "    </tr>\n",
       "  </thead>\n",
       "  <tbody>\n",
       "    <tr>\n",
       "      <th>0</th>\n",
       "      <td>None</td>\n",
       "      <td>0</td>\n",
       "      <td>1.06</td>\n",
       "      <td>0.0</td>\n",
       "      <td>True</td>\n",
       "      <td>10.0</td>\n",
       "      <td>100.0</td>\n",
       "      <td>10.0</td>\n",
       "      <td>50.0</td>\n",
       "    </tr>\n",
       "  </tbody>\n",
       "</table>\n",
       "</div>"
      ],
      "text/plain": [
       "   name  bus  vm_pu  va_degree  in_service  min_p_mw  max_p_mw  min_q_mvar  \\\n",
       "0  None    0   1.06        0.0        True      10.0     100.0        10.0   \n",
       "\n",
       "   max_q_mvar  \n",
       "0        50.0  "
      ]
     },
     "execution_count": 10,
     "metadata": {},
     "output_type": "execute_result"
    }
   ],
   "source": [
    "network.ext_grid"
   ]
  },
  {
   "cell_type": "markdown",
   "metadata": {},
   "source": [
    "## 1.5 model the lines (branches)"
   ]
  },
  {
   "cell_type": "code",
   "execution_count": 11,
   "metadata": {},
   "outputs": [
    {
     "data": {
      "text/plain": [
       "6"
      ]
     },
     "execution_count": 11,
     "metadata": {},
     "output_type": "execute_result"
    }
   ],
   "source": [
    "# from_bus (int) - ID of the bus on one side which the line will be connected with\n",
    "# to_bus (int) - ID of the bus on the other side which the line will be connected with\n",
    "# length_km (float) - The line length in km\n",
    "# r_ohm_per_km (float) - line resistance in ohm per km\n",
    "# x_ohm_per_km (float) - line reactance in ohm per km\n",
    "# c_nf_per_km (float) - line capacitance in nano Farad per km                        \n",
    "# max_i_ka (float) - maximum thermal current in kilo Ampere\n",
    "# type (str, None) - type of line (“ol” for overhead line or “cs” for cable system)\n",
    "# max_loading_percent (float) - maximum current loading (only needed for OPF)\n",
    "pp.create_line_from_parameters(network, from_bus=0, to_bus=1, length_km=1, \n",
    "                               r_ohm_per_km=2, x_ohm_per_km=6, c_nf_per_km=0, max_i_ka=0.866025, \n",
    "                               max_loading_percent=100, type='ol')\n",
    "pp.create_line_from_parameters(network, from_bus=0, to_bus=2, length_km=1, \n",
    "                               r_ohm_per_km=8, x_ohm_per_km=24, c_nf_per_km=0, max_i_ka=0.866025, \n",
    "                               max_loading_percent=100, type='ol')\n",
    "pp.create_line_from_parameters(network, from_bus=1, to_bus=2, length_km=1, \n",
    "                               r_ohm_per_km=6, x_ohm_per_km=18, c_nf_per_km=0, max_i_ka=0.866025, \n",
    "                               max_loading_percent=100, type='ol')\n",
    "pp.create_line_from_parameters(network, from_bus=1, to_bus=3, length_km=1, \n",
    "                               r_ohm_per_km=6, x_ohm_per_km=18, c_nf_per_km=0, max_i_ka=0.866025, \n",
    "                               max_loading_percent=100, type='ol')\n",
    "pp.create_line_from_parameters(network, from_bus=1, to_bus=4, length_km=1, \n",
    "                               r_ohm_per_km=4, x_ohm_per_km=12, c_nf_per_km=0, max_i_ka=0.866025, \n",
    "                               max_loading_percent=100, type='ol')\n",
    "pp.create_line_from_parameters(network, from_bus=2, to_bus=3, length_km=1, \n",
    "                               r_ohm_per_km=1, x_ohm_per_km=3, c_nf_per_km=0, max_i_ka=0.866025, \n",
    "                               max_loading_percent=100, type='ol')\n",
    "pp.create_line_from_parameters(network, from_bus=3, to_bus=4, length_km=1, \n",
    "                               r_ohm_per_km=8, x_ohm_per_km=24, c_nf_per_km=0, max_i_ka=0.866025, \n",
    "                               max_loading_percent=100, type='ol')"
   ]
  },
  {
   "cell_type": "code",
   "execution_count": 12,
   "metadata": {},
   "outputs": [
    {
     "data": {
      "text/html": [
       "<div>\n",
       "<style scoped>\n",
       "    .dataframe tbody tr th:only-of-type {\n",
       "        vertical-align: middle;\n",
       "    }\n",
       "\n",
       "    .dataframe tbody tr th {\n",
       "        vertical-align: top;\n",
       "    }\n",
       "\n",
       "    .dataframe thead th {\n",
       "        text-align: right;\n",
       "    }\n",
       "</style>\n",
       "<table border=\"1\" class=\"dataframe\">\n",
       "  <thead>\n",
       "    <tr style=\"text-align: right;\">\n",
       "      <th></th>\n",
       "      <th>name</th>\n",
       "      <th>std_type</th>\n",
       "      <th>from_bus</th>\n",
       "      <th>to_bus</th>\n",
       "      <th>length_km</th>\n",
       "      <th>r_ohm_per_km</th>\n",
       "      <th>x_ohm_per_km</th>\n",
       "      <th>c_nf_per_km</th>\n",
       "      <th>g_us_per_km</th>\n",
       "      <th>max_i_ka</th>\n",
       "      <th>df</th>\n",
       "      <th>parallel</th>\n",
       "      <th>type</th>\n",
       "      <th>in_service</th>\n",
       "      <th>max_loading_percent</th>\n",
       "    </tr>\n",
       "  </thead>\n",
       "  <tbody>\n",
       "    <tr>\n",
       "      <th>0</th>\n",
       "      <td>None</td>\n",
       "      <td>None</td>\n",
       "      <td>0</td>\n",
       "      <td>1</td>\n",
       "      <td>1.0</td>\n",
       "      <td>2.0</td>\n",
       "      <td>6.0</td>\n",
       "      <td>0.0</td>\n",
       "      <td>0.0</td>\n",
       "      <td>0.866025</td>\n",
       "      <td>1.0</td>\n",
       "      <td>1</td>\n",
       "      <td>ol</td>\n",
       "      <td>True</td>\n",
       "      <td>100.0</td>\n",
       "    </tr>\n",
       "    <tr>\n",
       "      <th>1</th>\n",
       "      <td>None</td>\n",
       "      <td>None</td>\n",
       "      <td>0</td>\n",
       "      <td>2</td>\n",
       "      <td>1.0</td>\n",
       "      <td>8.0</td>\n",
       "      <td>24.0</td>\n",
       "      <td>0.0</td>\n",
       "      <td>0.0</td>\n",
       "      <td>0.866025</td>\n",
       "      <td>1.0</td>\n",
       "      <td>1</td>\n",
       "      <td>ol</td>\n",
       "      <td>True</td>\n",
       "      <td>100.0</td>\n",
       "    </tr>\n",
       "    <tr>\n",
       "      <th>2</th>\n",
       "      <td>None</td>\n",
       "      <td>None</td>\n",
       "      <td>1</td>\n",
       "      <td>2</td>\n",
       "      <td>1.0</td>\n",
       "      <td>6.0</td>\n",
       "      <td>18.0</td>\n",
       "      <td>0.0</td>\n",
       "      <td>0.0</td>\n",
       "      <td>0.866025</td>\n",
       "      <td>1.0</td>\n",
       "      <td>1</td>\n",
       "      <td>ol</td>\n",
       "      <td>True</td>\n",
       "      <td>100.0</td>\n",
       "    </tr>\n",
       "    <tr>\n",
       "      <th>3</th>\n",
       "      <td>None</td>\n",
       "      <td>None</td>\n",
       "      <td>1</td>\n",
       "      <td>3</td>\n",
       "      <td>1.0</td>\n",
       "      <td>6.0</td>\n",
       "      <td>18.0</td>\n",
       "      <td>0.0</td>\n",
       "      <td>0.0</td>\n",
       "      <td>0.866025</td>\n",
       "      <td>1.0</td>\n",
       "      <td>1</td>\n",
       "      <td>ol</td>\n",
       "      <td>True</td>\n",
       "      <td>100.0</td>\n",
       "    </tr>\n",
       "    <tr>\n",
       "      <th>4</th>\n",
       "      <td>None</td>\n",
       "      <td>None</td>\n",
       "      <td>1</td>\n",
       "      <td>4</td>\n",
       "      <td>1.0</td>\n",
       "      <td>4.0</td>\n",
       "      <td>12.0</td>\n",
       "      <td>0.0</td>\n",
       "      <td>0.0</td>\n",
       "      <td>0.866025</td>\n",
       "      <td>1.0</td>\n",
       "      <td>1</td>\n",
       "      <td>ol</td>\n",
       "      <td>True</td>\n",
       "      <td>100.0</td>\n",
       "    </tr>\n",
       "    <tr>\n",
       "      <th>5</th>\n",
       "      <td>None</td>\n",
       "      <td>None</td>\n",
       "      <td>2</td>\n",
       "      <td>3</td>\n",
       "      <td>1.0</td>\n",
       "      <td>1.0</td>\n",
       "      <td>3.0</td>\n",
       "      <td>0.0</td>\n",
       "      <td>0.0</td>\n",
       "      <td>0.866025</td>\n",
       "      <td>1.0</td>\n",
       "      <td>1</td>\n",
       "      <td>ol</td>\n",
       "      <td>True</td>\n",
       "      <td>100.0</td>\n",
       "    </tr>\n",
       "    <tr>\n",
       "      <th>6</th>\n",
       "      <td>None</td>\n",
       "      <td>None</td>\n",
       "      <td>3</td>\n",
       "      <td>4</td>\n",
       "      <td>1.0</td>\n",
       "      <td>8.0</td>\n",
       "      <td>24.0</td>\n",
       "      <td>0.0</td>\n",
       "      <td>0.0</td>\n",
       "      <td>0.866025</td>\n",
       "      <td>1.0</td>\n",
       "      <td>1</td>\n",
       "      <td>ol</td>\n",
       "      <td>True</td>\n",
       "      <td>100.0</td>\n",
       "    </tr>\n",
       "  </tbody>\n",
       "</table>\n",
       "</div>"
      ],
      "text/plain": [
       "   name std_type  from_bus  to_bus  length_km  r_ohm_per_km  x_ohm_per_km  \\\n",
       "0  None     None         0       1        1.0           2.0           6.0   \n",
       "1  None     None         0       2        1.0           8.0          24.0   \n",
       "2  None     None         1       2        1.0           6.0          18.0   \n",
       "3  None     None         1       3        1.0           6.0          18.0   \n",
       "4  None     None         1       4        1.0           4.0          12.0   \n",
       "5  None     None         2       3        1.0           1.0           3.0   \n",
       "6  None     None         3       4        1.0           8.0          24.0   \n",
       "\n",
       "   c_nf_per_km  g_us_per_km  max_i_ka   df  parallel type  in_service  \\\n",
       "0          0.0          0.0  0.866025  1.0         1   ol        True   \n",
       "1          0.0          0.0  0.866025  1.0         1   ol        True   \n",
       "2          0.0          0.0  0.866025  1.0         1   ol        True   \n",
       "3          0.0          0.0  0.866025  1.0         1   ol        True   \n",
       "4          0.0          0.0  0.866025  1.0         1   ol        True   \n",
       "5          0.0          0.0  0.866025  1.0         1   ol        True   \n",
       "6          0.0          0.0  0.866025  1.0         1   ol        True   \n",
       "\n",
       "   max_loading_percent  \n",
       "0                100.0  \n",
       "1                100.0  \n",
       "2                100.0  \n",
       "3                100.0  \n",
       "4                100.0  \n",
       "5                100.0  \n",
       "6                100.0  "
      ]
     },
     "execution_count": 12,
     "metadata": {},
     "output_type": "execute_result"
    }
   ],
   "source": [
    "network.line"
   ]
  },
  {
   "cell_type": "markdown",
   "metadata": {},
   "source": [
    "## 1.6 create cost functions for generators (only for OPF problem)"
   ]
  },
  {
   "cell_type": "code",
   "execution_count": 13,
   "metadata": {},
   "outputs": [
    {
     "data": {
      "text/plain": [
       "2"
      ]
     },
     "execution_count": 13,
     "metadata": {},
     "output_type": "execute_result"
    }
   ],
   "source": [
    "# et (string) - Type of element [“gen”, “sgen”, “ext_grid”, “load”, “dcline”, “storage”] are possible\n",
    "# cp2_eur_per_mw2=0 (float) - Quadratic costs per MW\n",
    "# cp1_eur_per_mw (float) - Linear costs per MW\n",
    "# cp0_eur=0 (float) - Offset active power costs in euro\n",
    "pp.create_poly_cost(network, element=0, et='ext_grid', cp2_eur_per_mw2=0.11, cp1_eur_per_mw=5, cp0_eur=150)\n",
    "pp.create_poly_cost(network, element=0, et='gen', cp2_eur_per_mw2=0.085, cp1_eur_per_mw=1.2, cp0_eur=600)\n",
    "pp.create_poly_cost(network, element=1, et='gen', cp2_eur_per_mw2=0.1225, cp1_eur_per_mw=1.0, cp0_eur=335)"
   ]
  },
  {
   "cell_type": "code",
   "execution_count": 14,
   "metadata": {},
   "outputs": [
    {
     "data": {
      "text/html": [
       "<div>\n",
       "<style scoped>\n",
       "    .dataframe tbody tr th:only-of-type {\n",
       "        vertical-align: middle;\n",
       "    }\n",
       "\n",
       "    .dataframe tbody tr th {\n",
       "        vertical-align: top;\n",
       "    }\n",
       "\n",
       "    .dataframe thead th {\n",
       "        text-align: right;\n",
       "    }\n",
       "</style>\n",
       "<table border=\"1\" class=\"dataframe\">\n",
       "  <thead>\n",
       "    <tr style=\"text-align: right;\">\n",
       "      <th></th>\n",
       "      <th>element</th>\n",
       "      <th>et</th>\n",
       "      <th>cp0_eur</th>\n",
       "      <th>cp1_eur_per_mw</th>\n",
       "      <th>cp2_eur_per_mw2</th>\n",
       "      <th>cq0_eur</th>\n",
       "      <th>cq1_eur_per_mvar</th>\n",
       "      <th>cq2_eur_per_mvar2</th>\n",
       "    </tr>\n",
       "  </thead>\n",
       "  <tbody>\n",
       "    <tr>\n",
       "      <th>0</th>\n",
       "      <td>0</td>\n",
       "      <td>ext_grid</td>\n",
       "      <td>150.0</td>\n",
       "      <td>5.0</td>\n",
       "      <td>0.1100</td>\n",
       "      <td>0.0</td>\n",
       "      <td>0.0</td>\n",
       "      <td>0.0</td>\n",
       "    </tr>\n",
       "    <tr>\n",
       "      <th>1</th>\n",
       "      <td>0</td>\n",
       "      <td>gen</td>\n",
       "      <td>600.0</td>\n",
       "      <td>1.2</td>\n",
       "      <td>0.0850</td>\n",
       "      <td>0.0</td>\n",
       "      <td>0.0</td>\n",
       "      <td>0.0</td>\n",
       "    </tr>\n",
       "    <tr>\n",
       "      <th>2</th>\n",
       "      <td>1</td>\n",
       "      <td>gen</td>\n",
       "      <td>335.0</td>\n",
       "      <td>1.0</td>\n",
       "      <td>0.1225</td>\n",
       "      <td>0.0</td>\n",
       "      <td>0.0</td>\n",
       "      <td>0.0</td>\n",
       "    </tr>\n",
       "  </tbody>\n",
       "</table>\n",
       "</div>"
      ],
      "text/plain": [
       "   element        et  cp0_eur  cp1_eur_per_mw  cp2_eur_per_mw2  cq0_eur  \\\n",
       "0        0  ext_grid    150.0             5.0           0.1100      0.0   \n",
       "1        0       gen    600.0             1.2           0.0850      0.0   \n",
       "2        1       gen    335.0             1.0           0.1225      0.0   \n",
       "\n",
       "   cq1_eur_per_mvar  cq2_eur_per_mvar2  \n",
       "0               0.0                0.0  \n",
       "1               0.0                0.0  \n",
       "2               0.0                0.0  "
      ]
     },
     "execution_count": 14,
     "metadata": {},
     "output_type": "execute_result"
    }
   ],
   "source": [
    "network.poly_cost"
   ]
  },
  {
   "cell_type": "code",
   "execution_count": 15,
   "metadata": {},
   "outputs": [
    {
     "data": {
      "text/plain": [
       "This pandapower network includes the following parameter tables:\n",
       "   - bus (5 elements)\n",
       "   - load (4 elements)\n",
       "   - gen (2 elements)\n",
       "   - ext_grid (1 element)\n",
       "   - line (7 elements)\n",
       "   - poly_cost (3 elements)\n",
       "   - bus_geodata (5 elements)"
      ]
     },
     "execution_count": 15,
     "metadata": {},
     "output_type": "execute_result"
    }
   ],
   "source": [
    "network"
   ]
  },
  {
   "cell_type": "code",
   "execution_count": 244,
   "metadata": {},
   "outputs": [
    {
     "data": {
      "image/png": "[encoded data removed]",
      "text/plain": [
       "<Figure size 720x576 with 1 Axes>"
      ]
     },
     "metadata": {},
     "output_type": "display_data"
    },
    {
     "data": {
      "text/plain": [
       "<matplotlib.axes._subplots.AxesSubplot at 0x7fad535c4278>"
      ]
     },
     "execution_count": 244,
     "metadata": {},
     "output_type": "execute_result"
    }
   ],
   "source": [
    "pp.plotting.simple_plot(network)"
   ]
  },
  {
   "cell_type": "markdown",
   "metadata": {},
   "source": [
    "# 2. Power flow"
   ]
  },
  {
   "cell_type": "markdown",
   "metadata": {},
   "source": [
    "## 2.1 DC power flow"
   ]
  },
  {
   "cell_type": "code",
   "execution_count": 16,
   "metadata": {},
   "outputs": [
    {
     "name": "stdout",
     "output_type": "stream",
     "text": [
      "   p_from_mw  q_from_mvar    p_to_mw  q_to_mvar  pl_mw  ql_mvar  i_from_ka  \\\n",
      "0  57.571429          0.0 -57.571429        0.0    0.0      0.0   0.313574   \n",
      "1  22.428571          0.0 -22.428571        0.0    0.0      0.0   0.122162   \n",
      "2  10.714286          0.0 -10.714286        0.0    0.0      0.0   0.059195   \n",
      "3  17.904762          0.0 -17.904762        0.0    0.0      0.0   0.098922   \n",
      "4  48.952381          0.0 -48.952381        0.0    0.0      0.0   0.270456   \n",
      "5  43.142857          0.0 -43.142857        0.0    0.0      0.0   0.241830   \n",
      "6  11.047619          0.0 -11.047619        0.0    0.0      0.0   0.063783   \n",
      "\n",
      "    i_to_ka      i_ka  vm_from_pu  va_from_degree  vm_to_pu  va_to_degree  \\\n",
      "0  0.318075  0.318075       1.060        0.000000     1.045     -1.979160   \n",
      "1  0.125720  0.125720       1.060        0.000000     1.030     -3.084150   \n",
      "2  0.060057  0.060057       1.045       -1.979160     1.030     -3.084150   \n",
      "3  0.103373  0.103373       1.045       -1.979160     1.000     -3.825721   \n",
      "4  0.282627  0.282627       1.045       -1.979160     1.000     -5.344878   \n",
      "5  0.249085  0.249085       1.030       -3.084150     1.000     -3.825721   \n",
      "6  0.063783  0.063783       1.000       -3.825721     1.000     -5.344878   \n",
      "\n",
      "   loading_percent  \n",
      "0        36.728201  \n",
      "1        14.516881  \n",
      "2         6.934816  \n",
      "3        11.936514  \n",
      "4        32.634936  \n",
      "5        28.761918  \n",
      "6         7.365083  \n",
      "   vm_pu  va_degree  p_mw  q_mvar\n",
      "0    NaN   0.000000 -80.0     NaN\n",
      "1    NaN  -1.979160 -20.0     NaN\n",
      "2    NaN  -3.084150 -10.0     NaN\n",
      "3    NaN  -3.825721  50.0     NaN\n",
      "4    NaN  -5.344878  60.0     NaN\n"
     ]
    }
   ],
   "source": [
    "pp.rundcpp(network, verbose=True)\n",
    "print(network.res_line) # power flow between buses\n",
    "print(network.res_bus)  # power and voltage at buses"
   ]
  },
  {
   "cell_type": "markdown",
   "metadata": {},
   "source": [
    "## 2.2 AC power flow"
   ]
  },
  {
   "cell_type": "code",
   "execution_count": 237,
   "metadata": {},
   "outputs": [
    {
     "name": "stdout",
     "output_type": "stream",
     "text": [
      "   p_from_mw  q_from_mvar    p_to_mw  q_to_mvar     pl_mw   ql_mvar  \\\n",
      "0  60.003686     7.395625 -59.353074  -5.443789  0.650612  1.951836   \n",
      "1  23.191266     6.013214 -22.782584  -4.787169  0.408682  1.226045   \n",
      "2  10.931295     5.135644 -10.851150  -4.895208  0.080145  0.240436   \n",
      "3  18.229238    10.397162 -17.987262  -9.671234  0.241976  0.725927   \n",
      "4  50.192541    35.322531 -48.812729 -31.183096  1.379812  4.139435   \n",
      "5  43.633734    30.446845 -43.366893 -29.646322  0.266841  0.800522   \n",
      "6  11.354155     9.317557 -11.187271  -8.816904  0.166884  0.500653   \n",
      "\n",
      "   i_from_ka   i_to_ka      i_ka  vm_from_pu  va_from_degree  vm_to_pu  \\\n",
      "0   0.329295  0.329295  0.329295    1.060000        0.000000  1.045000   \n",
      "1   0.130493  0.130493  0.130493    1.060000        0.000000  1.030000   \n",
      "2   0.066727  0.066727  0.066727    1.045000       -1.785996  1.030000   \n",
      "3   0.115944  0.115944  0.115944    1.045000       -1.785996  1.016942   \n",
      "4   0.339093  0.339093  0.339093    1.045000       -1.785996  0.986213   \n",
      "5   0.298240  0.298240  0.298240    1.030000       -2.669405  1.016942   \n",
      "6   0.083388  0.083388  0.083388    1.016942       -3.218901  0.986213   \n",
      "\n",
      "   va_to_degree  loading_percent  \n",
      "0     -1.785996        38.023749  \n",
      "1     -2.669405        15.068034  \n",
      "2     -2.669405         7.705002  \n",
      "3     -3.218901        13.388111  \n",
      "4     -4.349893        39.155148  \n",
      "5     -3.218901        34.437767  \n",
      "6     -4.349893         9.628786  \n",
      "      vm_pu  va_degree       p_mw     q_mvar\n",
      "0  1.060000   0.000000 -83.194952 -13.408839\n",
      "1  1.045000  -1.785996 -20.000000 -45.411548\n",
      "2  1.030000  -2.669405 -10.000000 -20.764468\n",
      "3  1.016942  -3.218901  50.000000  30.000000\n",
      "4  0.986213  -4.349893  60.000000  40.000000\n"
     ]
    }
   ],
   "source": [
    "pp.runpp(network, verbose=False)\n",
    "print(network.res_line) # power flow between buses\n",
    "print(network.res_bus)  # power and voltage at buses"
   ]
  },
  {
   "cell_type": "markdown",
   "metadata": {},
   "source": [
    "# 3. Optimal Power Flow"
   ]
  },
  {
   "cell_type": "markdown",
   "metadata": {},
   "source": [
    "## 3.1 DC-OPF"
   ]
  },
  {
   "cell_type": "code",
   "execution_count": 238,
   "metadata": {},
   "outputs": [
    {
     "name": "stdout",
     "output_type": "stream",
     "text": [
      "        p_mw  q_mvar\n",
      "0  34.874013     NaN\n",
      "        p_mw  q_mvar  va_degree  vm_pu\n",
      "0  67.484016     NaN  -0.801583    1.0\n",
      "1  47.641971     NaN  -1.589191    1.0\n",
      "2186.9176382098535\n"
     ]
    }
   ],
   "source": [
    "pp.rundcopp(network, verbose=False)\n",
    "print(network.res_ext_grid) # power generation of slack generator\n",
    "print(network.res_gen)      # power generation of non-slack generators\n",
    "print(network.res_cost)     # optimal total cost"
   ]
  },
  {
   "cell_type": "markdown",
   "metadata": {},
   "source": [
    "## 3.2 AC-OPF"
   ]
  },
  {
   "cell_type": "code",
   "execution_count": 239,
   "metadata": {},
   "outputs": [
    {
     "name": "stdout",
     "output_type": "stream",
     "text": [
      "        p_mw     q_mvar\n",
      "0  35.066429  11.677907\n",
      "        p_mw     q_mvar  va_degree     vm_pu\n",
      "0  68.417900  49.999996  -0.651274  1.051548\n",
      "1  48.739197  39.992676  -1.252976  1.041423\n",
      "2215.320472724633\n"
     ]
    }
   ],
   "source": [
    "pp.runopp(network, verbose=False)\n",
    "print(network.res_ext_grid) # power generation of slack generator\n",
    "print(network.res_gen)      # power generation of non-slack generators\n",
    "print(network.res_cost)     # optimal total cost"
   ]
  },
  {
   "cell_type": "markdown",
   "metadata": {},
   "source": [
    "# 4. Loading data from external"
   ]
  },
  {
   "cell_type": "markdown",
   "metadata": {},
   "source": [
    "## 4.1 Save and load with pickle"
   ]
  },
  {
   "cell_type": "code",
   "execution_count": 18,
   "metadata": {},
   "outputs": [],
   "source": [
    "pp.to_pickle(network, 'example1.p')"
   ]
  },
  {
   "cell_type": "code",
   "execution_count": 19,
   "metadata": {},
   "outputs": [],
   "source": [
    "network_reload = pp.from_pickle('example1.p')"
   ]
  },
  {
   "cell_type": "markdown",
   "metadata": {},
   "source": [
    "## 4.2 Load data from MATPOWER"
   ]
  },
  {
   "cell_type": "code",
   "execution_count": 20,
   "metadata": {},
   "outputs": [],
   "source": [
    "network2 = pp.converter.from_mpc('example1.mat')"
   ]
  },
  {
   "cell_type": "code",
   "execution_count": 21,
   "metadata": {},
   "outputs": [
    {
     "data": {
      "text/plain": [
       "This pandapower network includes the following parameter tables:\n",
       "   - bus (5 elements)\n",
       "   - load (4 elements)\n",
       "   - gen (2 elements)\n",
       "   - ext_grid (1 element)\n",
       "   - line (7 elements)\n",
       "   - poly_cost (3 elements)"
      ]
     },
     "execution_count": 21,
     "metadata": {},
     "output_type": "execute_result"
    }
   ],
   "source": [
    "network2"
   ]
  },
  {
   "cell_type": "markdown",
   "metadata": {},
   "source": [
    "## 4.3 Load built-in data"
   ]
  },
  {
   "cell_type": "code",
   "execution_count": 24,
   "metadata": {},
   "outputs": [],
   "source": [
    "case9 = pn.case9()"
   ]
  },
  {
   "cell_type": "code",
   "execution_count": 27,
   "metadata": {},
   "outputs": [
    {
     "data": {
      "text/plain": [
       "This pandapower network includes the following parameter tables:\n",
       "   - bus (9 elements)\n",
       "   - load (3 elements)\n",
       "   - gen (2 elements)\n",
       "   - ext_grid (1 element)\n",
       "   - line (9 elements)\n",
       "   - poly_cost (3 elements)\n",
       "   - bus_geodata (9 elements)"
      ]
     },
     "execution_count": 27,
     "metadata": {},
     "output_type": "execute_result"
    }
   ],
   "source": [
    "case9"
   ]
  },
  {
   "cell_type": "code",
   "execution_count": 29,
   "metadata": {},
   "outputs": [],
   "source": [
    "case118 = pn.case118()"
   ]
  },
  {
   "cell_type": "code",
   "execution_count": 30,
   "metadata": {},
   "outputs": [
    {
     "data": {
      "text/plain": [
       "This pandapower network includes the following parameter tables:\n",
       "   - bus (118 elements)\n",
       "   - load (99 elements)\n",
       "   - gen (53 elements)\n",
       "   - shunt (14 elements)\n",
       "   - ext_grid (1 element)\n",
       "   - line (173 elements)\n",
       "   - trafo (13 elements)\n",
       "   - poly_cost (54 elements)\n",
       "   - bus_geodata (118 elements)"
      ]
     },
     "execution_count": 30,
     "metadata": {},
     "output_type": "execute_result"
    }
   ],
   "source": [
    "case118"
   ]
  },
  {
   "cell_type": "code",
   "execution_count": 31,
   "metadata": {},
   "outputs": [],
   "source": [
    "pp.runopp(case118)"
   ]
  },
  {
   "cell_type": "code",
   "execution_count": 32,
   "metadata": {},
   "outputs": [
    {
     "data": {
      "text/plain": [
       "129695.1018738289"
      ]
     },
     "execution_count": 32,
     "metadata": {},
     "output_type": "execute_result"
    }
   ],
   "source": [
    "case118.res_cost"
   ]
  },
  {
   "cell_type": "code",
   "execution_count": null,
   "metadata": {},
   "outputs": [],
   "source": []
  }
 ],
 "metadata": {
  "kernelspec": {
   "display_name": "Environment (conda_pytorch_p36)",
   "language": "python",
   "name": "conda_pytorch_p36"
  },
  "language_info": {
   "codemirror_mode": {
    "name": "ipython",
    "version": 3
   },
   "file_extension": ".py",
   "mimetype": "text/x-python",
   "name": "python",
   "nbconvert_exporter": "python",
   "pygments_lexer": "ipython3",
   "version": "3.6.5"
  }
 },
 "nbformat": 4,
 "nbformat_minor": 2
}
